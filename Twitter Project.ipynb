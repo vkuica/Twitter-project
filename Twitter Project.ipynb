{
 "cells": [
  {
   "cell_type": "markdown",
   "id": "second-remains",
   "metadata": {},
   "source": [
    "### Data gathering"
   ]
  },
  {
   "cell_type": "code",
   "execution_count": 1,
   "id": "harmful-insured",
   "metadata": {},
   "outputs": [],
   "source": [
    "import pandas as pd\n",
    "import numpy as np\n",
    "import tweepy\n",
    "from tweepy import OAuthHandler\n",
    "import json\n",
    "import re\n",
    "import requests\n",
    "from timeit import default_timer as timer\n",
    "\n",
    "df = pd.read_csv('twitter-archive-enhanced.csv')\n",
    "\n",
    "# These are hidden to comply with Twitter's API terms and conditions\n",
    "consumer_key = 'hidden'\n",
    "consumer_secret = 'hidden'\n",
    "access_token = 'hidden'\n",
    "access_secret = 'hidden'\n",
    "\n",
    "auth = OAuthHandler(consumer_key, consumer_secret)\n",
    "auth.set_access_token(access_token, access_secret)\n",
    "\n",
    "api = tweepy.API(auth, wait_on_rate_limit=True)"
   ]
  },
  {
   "cell_type": "code",
   "execution_count": null,
   "id": "chicken-russia",
   "metadata": {},
   "outputs": [],
   "source": [
    "# Tweet IDs for which to gather additional data via Twitter's API\n",
    "tweet_ids = df.tweet_id.values\n",
    "len(tweet_ids)\n",
    "\n",
    "# Query Twitter's API for JSON data for each tweet ID in the Twitter archive\n",
    "count = 0\n",
    "fails_dict = {}\n",
    "start = timer()\n",
    "# Save each tweet's returned JSON as a new line in a .txt file\n",
    "with open('tweet_json.txt', 'w') as outfile:\n",
    "    # This loop will likely take 20-30 minutes to run because of Twitter's rate limit\n",
    "    for tweet_id in tweet_ids:\n",
    "        count += 1\n",
    "        print(str(count) + \": \" + str(tweet_id))\n",
    "        try:\n",
    "            tweet = api.get_status(tweet_id, tweet_mode='extended')\n",
    "            print(\"Success\")\n",
    "            json.dump(tweet._json, outfile)\n",
    "            outfile.write('\\n')\n",
    "        except tweepy.TweepError as e:\n",
    "            print(\"Fail\")\n",
    "            fails_dict[tweet_id] = e\n",
    "            pass\n",
    "end = timer()\n",
    "print(end - start)\n",
    "print(fails_dict)"
   ]
  },
  {
   "cell_type": "markdown",
   "id": "durable-spotlight",
   "metadata": {},
   "source": [
    "##### Reviewing imported data both image recognition and Tweets"
   ]
  },
  {
   "cell_type": "code",
   "execution_count": 648,
   "id": "julian-guest",
   "metadata": {},
   "outputs": [
    {
     "data": {
      "text/html": [
       "<div>\n",
       "<style scoped>\n",
       "    .dataframe tbody tr th:only-of-type {\n",
       "        vertical-align: middle;\n",
       "    }\n",
       "\n",
       "    .dataframe tbody tr th {\n",
       "        vertical-align: top;\n",
       "    }\n",
       "\n",
       "    .dataframe thead th {\n",
       "        text-align: right;\n",
       "    }\n",
       "</style>\n",
       "<table border=\"1\" class=\"dataframe\">\n",
       "  <thead>\n",
       "    <tr style=\"text-align: right;\">\n",
       "      <th></th>\n",
       "      <th>created_at</th>\n",
       "      <th>id</th>\n",
       "      <th>id_str</th>\n",
       "      <th>full_text</th>\n",
       "      <th>truncated</th>\n",
       "      <th>display_text_range</th>\n",
       "      <th>entities</th>\n",
       "      <th>extended_entities</th>\n",
       "      <th>source</th>\n",
       "      <th>in_reply_to_status_id</th>\n",
       "      <th>...</th>\n",
       "      <th>favorited</th>\n",
       "      <th>retweeted</th>\n",
       "      <th>possibly_sensitive</th>\n",
       "      <th>possibly_sensitive_appealable</th>\n",
       "      <th>lang</th>\n",
       "      <th>retweeted_status</th>\n",
       "      <th>quoted_status_id</th>\n",
       "      <th>quoted_status_id_str</th>\n",
       "      <th>quoted_status_permalink</th>\n",
       "      <th>quoted_status</th>\n",
       "    </tr>\n",
       "  </thead>\n",
       "  <tbody>\n",
       "    <tr>\n",
       "      <th>0</th>\n",
       "      <td>2017-08-01 16:23:56+00:00</td>\n",
       "      <td>892420643555336193</td>\n",
       "      <td>892420643555336192</td>\n",
       "      <td>This is Phineas. He's a mystical boy. Only eve...</td>\n",
       "      <td>False</td>\n",
       "      <td>[0, 85]</td>\n",
       "      <td>{'hashtags': [], 'symbols': [], 'user_mentions...</td>\n",
       "      <td>{'media': [{'id': 892420639486877696, 'id_str'...</td>\n",
       "      <td>&lt;a href=\"http://twitter.com/download/iphone\" r...</td>\n",
       "      <td>NaN</td>\n",
       "      <td>...</td>\n",
       "      <td>False</td>\n",
       "      <td>False</td>\n",
       "      <td>0.0</td>\n",
       "      <td>0.0</td>\n",
       "      <td>en</td>\n",
       "      <td>NaN</td>\n",
       "      <td>NaN</td>\n",
       "      <td>NaN</td>\n",
       "      <td>NaN</td>\n",
       "      <td>NaN</td>\n",
       "    </tr>\n",
       "    <tr>\n",
       "      <th>1</th>\n",
       "      <td>2017-08-01 00:17:27+00:00</td>\n",
       "      <td>892177421306343426</td>\n",
       "      <td>892177421306343424</td>\n",
       "      <td>This is Tilly. She's just checking pup on you....</td>\n",
       "      <td>False</td>\n",
       "      <td>[0, 138]</td>\n",
       "      <td>{'hashtags': [], 'symbols': [], 'user_mentions...</td>\n",
       "      <td>{'media': [{'id': 892177413194625024, 'id_str'...</td>\n",
       "      <td>&lt;a href=\"http://twitter.com/download/iphone\" r...</td>\n",
       "      <td>NaN</td>\n",
       "      <td>...</td>\n",
       "      <td>False</td>\n",
       "      <td>False</td>\n",
       "      <td>0.0</td>\n",
       "      <td>0.0</td>\n",
       "      <td>en</td>\n",
       "      <td>NaN</td>\n",
       "      <td>NaN</td>\n",
       "      <td>NaN</td>\n",
       "      <td>NaN</td>\n",
       "      <td>NaN</td>\n",
       "    </tr>\n",
       "    <tr>\n",
       "      <th>2</th>\n",
       "      <td>2017-07-31 00:18:03+00:00</td>\n",
       "      <td>891815181378084864</td>\n",
       "      <td>891815181378084864</td>\n",
       "      <td>This is Archie. He is a rare Norwegian Pouncin...</td>\n",
       "      <td>False</td>\n",
       "      <td>[0, 121]</td>\n",
       "      <td>{'hashtags': [], 'symbols': [], 'user_mentions...</td>\n",
       "      <td>{'media': [{'id': 891815175371796480, 'id_str'...</td>\n",
       "      <td>&lt;a href=\"http://twitter.com/download/iphone\" r...</td>\n",
       "      <td>NaN</td>\n",
       "      <td>...</td>\n",
       "      <td>False</td>\n",
       "      <td>False</td>\n",
       "      <td>0.0</td>\n",
       "      <td>0.0</td>\n",
       "      <td>en</td>\n",
       "      <td>NaN</td>\n",
       "      <td>NaN</td>\n",
       "      <td>NaN</td>\n",
       "      <td>NaN</td>\n",
       "      <td>NaN</td>\n",
       "    </tr>\n",
       "    <tr>\n",
       "      <th>3</th>\n",
       "      <td>2017-07-30 15:58:51+00:00</td>\n",
       "      <td>891689557279858688</td>\n",
       "      <td>891689557279858688</td>\n",
       "      <td>This is Darla. She commenced a snooze mid meal...</td>\n",
       "      <td>False</td>\n",
       "      <td>[0, 79]</td>\n",
       "      <td>{'hashtags': [], 'symbols': [], 'user_mentions...</td>\n",
       "      <td>{'media': [{'id': 891689552724799489, 'id_str'...</td>\n",
       "      <td>&lt;a href=\"http://twitter.com/download/iphone\" r...</td>\n",
       "      <td>NaN</td>\n",
       "      <td>...</td>\n",
       "      <td>False</td>\n",
       "      <td>False</td>\n",
       "      <td>0.0</td>\n",
       "      <td>0.0</td>\n",
       "      <td>en</td>\n",
       "      <td>NaN</td>\n",
       "      <td>NaN</td>\n",
       "      <td>NaN</td>\n",
       "      <td>NaN</td>\n",
       "      <td>NaN</td>\n",
       "    </tr>\n",
       "    <tr>\n",
       "      <th>4</th>\n",
       "      <td>2017-07-29 16:00:24+00:00</td>\n",
       "      <td>891327558926688256</td>\n",
       "      <td>891327558926688256</td>\n",
       "      <td>This is Franklin. He would like you to stop ca...</td>\n",
       "      <td>False</td>\n",
       "      <td>[0, 138]</td>\n",
       "      <td>{'hashtags': [{'text': 'BarkWeek', 'indices': ...</td>\n",
       "      <td>{'media': [{'id': 891327551943041024, 'id_str'...</td>\n",
       "      <td>&lt;a href=\"http://twitter.com/download/iphone\" r...</td>\n",
       "      <td>NaN</td>\n",
       "      <td>...</td>\n",
       "      <td>False</td>\n",
       "      <td>False</td>\n",
       "      <td>0.0</td>\n",
       "      <td>0.0</td>\n",
       "      <td>en</td>\n",
       "      <td>NaN</td>\n",
       "      <td>NaN</td>\n",
       "      <td>NaN</td>\n",
       "      <td>NaN</td>\n",
       "      <td>NaN</td>\n",
       "    </tr>\n",
       "  </tbody>\n",
       "</table>\n",
       "<p>5 rows × 32 columns</p>\n",
       "</div>"
      ],
      "text/plain": [
       "                 created_at                  id              id_str  \\\n",
       "0 2017-08-01 16:23:56+00:00  892420643555336193  892420643555336192   \n",
       "1 2017-08-01 00:17:27+00:00  892177421306343426  892177421306343424   \n",
       "2 2017-07-31 00:18:03+00:00  891815181378084864  891815181378084864   \n",
       "3 2017-07-30 15:58:51+00:00  891689557279858688  891689557279858688   \n",
       "4 2017-07-29 16:00:24+00:00  891327558926688256  891327558926688256   \n",
       "\n",
       "                                           full_text  truncated  \\\n",
       "0  This is Phineas. He's a mystical boy. Only eve...      False   \n",
       "1  This is Tilly. She's just checking pup on you....      False   \n",
       "2  This is Archie. He is a rare Norwegian Pouncin...      False   \n",
       "3  This is Darla. She commenced a snooze mid meal...      False   \n",
       "4  This is Franklin. He would like you to stop ca...      False   \n",
       "\n",
       "  display_text_range                                           entities  \\\n",
       "0            [0, 85]  {'hashtags': [], 'symbols': [], 'user_mentions...   \n",
       "1           [0, 138]  {'hashtags': [], 'symbols': [], 'user_mentions...   \n",
       "2           [0, 121]  {'hashtags': [], 'symbols': [], 'user_mentions...   \n",
       "3            [0, 79]  {'hashtags': [], 'symbols': [], 'user_mentions...   \n",
       "4           [0, 138]  {'hashtags': [{'text': 'BarkWeek', 'indices': ...   \n",
       "\n",
       "                                   extended_entities  \\\n",
       "0  {'media': [{'id': 892420639486877696, 'id_str'...   \n",
       "1  {'media': [{'id': 892177413194625024, 'id_str'...   \n",
       "2  {'media': [{'id': 891815175371796480, 'id_str'...   \n",
       "3  {'media': [{'id': 891689552724799489, 'id_str'...   \n",
       "4  {'media': [{'id': 891327551943041024, 'id_str'...   \n",
       "\n",
       "                                              source  in_reply_to_status_id  \\\n",
       "0  <a href=\"http://twitter.com/download/iphone\" r...                    NaN   \n",
       "1  <a href=\"http://twitter.com/download/iphone\" r...                    NaN   \n",
       "2  <a href=\"http://twitter.com/download/iphone\" r...                    NaN   \n",
       "3  <a href=\"http://twitter.com/download/iphone\" r...                    NaN   \n",
       "4  <a href=\"http://twitter.com/download/iphone\" r...                    NaN   \n",
       "\n",
       "   ...  favorited  retweeted  possibly_sensitive  \\\n",
       "0  ...      False      False                 0.0   \n",
       "1  ...      False      False                 0.0   \n",
       "2  ...      False      False                 0.0   \n",
       "3  ...      False      False                 0.0   \n",
       "4  ...      False      False                 0.0   \n",
       "\n",
       "  possibly_sensitive_appealable lang  retweeted_status  quoted_status_id  \\\n",
       "0                           0.0   en               NaN               NaN   \n",
       "1                           0.0   en               NaN               NaN   \n",
       "2                           0.0   en               NaN               NaN   \n",
       "3                           0.0   en               NaN               NaN   \n",
       "4                           0.0   en               NaN               NaN   \n",
       "\n",
       "  quoted_status_id_str  quoted_status_permalink  quoted_status  \n",
       "0                  NaN                      NaN            NaN  \n",
       "1                  NaN                      NaN            NaN  \n",
       "2                  NaN                      NaN            NaN  \n",
       "3                  NaN                      NaN            NaN  \n",
       "4                  NaN                      NaN            NaN  \n",
       "\n",
       "[5 rows x 32 columns]"
      ]
     },
     "execution_count": 648,
     "metadata": {},
     "output_type": "execute_result"
    }
   ],
   "source": [
    "df_1 = pd.read_json('tweet_json.txt',lines=True)\n",
    "df_1.head()"
   ]
  },
  {
   "cell_type": "code",
   "execution_count": 649,
   "id": "martial-greenhouse",
   "metadata": {},
   "outputs": [
    {
     "data": {
      "text/html": [
       "<div>\n",
       "<style scoped>\n",
       "    .dataframe tbody tr th:only-of-type {\n",
       "        vertical-align: middle;\n",
       "    }\n",
       "\n",
       "    .dataframe tbody tr th {\n",
       "        vertical-align: top;\n",
       "    }\n",
       "\n",
       "    .dataframe thead th {\n",
       "        text-align: right;\n",
       "    }\n",
       "</style>\n",
       "<table border=\"1\" class=\"dataframe\">\n",
       "  <thead>\n",
       "    <tr style=\"text-align: right;\">\n",
       "      <th></th>\n",
       "      <th>tweet_id</th>\n",
       "      <th>jpg_url</th>\n",
       "      <th>img_num</th>\n",
       "      <th>p1</th>\n",
       "      <th>p1_conf</th>\n",
       "      <th>p1_dog</th>\n",
       "      <th>p2</th>\n",
       "      <th>p2_conf</th>\n",
       "      <th>p2_dog</th>\n",
       "      <th>p3</th>\n",
       "      <th>p3_conf</th>\n",
       "      <th>p3_dog</th>\n",
       "    </tr>\n",
       "  </thead>\n",
       "  <tbody>\n",
       "    <tr>\n",
       "      <th>0</th>\n",
       "      <td>666020888022790149</td>\n",
       "      <td>https://pbs.twimg.com/media/CT4udn0WwAA0aMy.jpg</td>\n",
       "      <td>1</td>\n",
       "      <td>Welsh_springer_spaniel</td>\n",
       "      <td>0.465074</td>\n",
       "      <td>True</td>\n",
       "      <td>collie</td>\n",
       "      <td>0.156665</td>\n",
       "      <td>True</td>\n",
       "      <td>Shetland_sheepdog</td>\n",
       "      <td>0.061428</td>\n",
       "      <td>True</td>\n",
       "    </tr>\n",
       "    <tr>\n",
       "      <th>1</th>\n",
       "      <td>666029285002620928</td>\n",
       "      <td>https://pbs.twimg.com/media/CT42GRgUYAA5iDo.jpg</td>\n",
       "      <td>1</td>\n",
       "      <td>redbone</td>\n",
       "      <td>0.506826</td>\n",
       "      <td>True</td>\n",
       "      <td>miniature_pinscher</td>\n",
       "      <td>0.074192</td>\n",
       "      <td>True</td>\n",
       "      <td>Rhodesian_ridgeback</td>\n",
       "      <td>0.072010</td>\n",
       "      <td>True</td>\n",
       "    </tr>\n",
       "    <tr>\n",
       "      <th>2</th>\n",
       "      <td>666033412701032449</td>\n",
       "      <td>https://pbs.twimg.com/media/CT4521TWwAEvMyu.jpg</td>\n",
       "      <td>1</td>\n",
       "      <td>German_shepherd</td>\n",
       "      <td>0.596461</td>\n",
       "      <td>True</td>\n",
       "      <td>malinois</td>\n",
       "      <td>0.138584</td>\n",
       "      <td>True</td>\n",
       "      <td>bloodhound</td>\n",
       "      <td>0.116197</td>\n",
       "      <td>True</td>\n",
       "    </tr>\n",
       "    <tr>\n",
       "      <th>3</th>\n",
       "      <td>666044226329800704</td>\n",
       "      <td>https://pbs.twimg.com/media/CT5Dr8HUEAA-lEu.jpg</td>\n",
       "      <td>1</td>\n",
       "      <td>Rhodesian_ridgeback</td>\n",
       "      <td>0.408143</td>\n",
       "      <td>True</td>\n",
       "      <td>redbone</td>\n",
       "      <td>0.360687</td>\n",
       "      <td>True</td>\n",
       "      <td>miniature_pinscher</td>\n",
       "      <td>0.222752</td>\n",
       "      <td>True</td>\n",
       "    </tr>\n",
       "    <tr>\n",
       "      <th>4</th>\n",
       "      <td>666049248165822465</td>\n",
       "      <td>https://pbs.twimg.com/media/CT5IQmsXIAAKY4A.jpg</td>\n",
       "      <td>1</td>\n",
       "      <td>miniature_pinscher</td>\n",
       "      <td>0.560311</td>\n",
       "      <td>True</td>\n",
       "      <td>Rottweiler</td>\n",
       "      <td>0.243682</td>\n",
       "      <td>True</td>\n",
       "      <td>Doberman</td>\n",
       "      <td>0.154629</td>\n",
       "      <td>True</td>\n",
       "    </tr>\n",
       "  </tbody>\n",
       "</table>\n",
       "</div>"
      ],
      "text/plain": [
       "             tweet_id                                          jpg_url  \\\n",
       "0  666020888022790149  https://pbs.twimg.com/media/CT4udn0WwAA0aMy.jpg   \n",
       "1  666029285002620928  https://pbs.twimg.com/media/CT42GRgUYAA5iDo.jpg   \n",
       "2  666033412701032449  https://pbs.twimg.com/media/CT4521TWwAEvMyu.jpg   \n",
       "3  666044226329800704  https://pbs.twimg.com/media/CT5Dr8HUEAA-lEu.jpg   \n",
       "4  666049248165822465  https://pbs.twimg.com/media/CT5IQmsXIAAKY4A.jpg   \n",
       "\n",
       "   img_num                      p1   p1_conf  p1_dog                  p2  \\\n",
       "0        1  Welsh_springer_spaniel  0.465074    True              collie   \n",
       "1        1                 redbone  0.506826    True  miniature_pinscher   \n",
       "2        1         German_shepherd  0.596461    True            malinois   \n",
       "3        1     Rhodesian_ridgeback  0.408143    True             redbone   \n",
       "4        1      miniature_pinscher  0.560311    True          Rottweiler   \n",
       "\n",
       "    p2_conf  p2_dog                   p3   p3_conf  p3_dog  \n",
       "0  0.156665    True    Shetland_sheepdog  0.061428    True  \n",
       "1  0.074192    True  Rhodesian_ridgeback  0.072010    True  \n",
       "2  0.138584    True           bloodhound  0.116197    True  \n",
       "3  0.360687    True   miniature_pinscher  0.222752    True  \n",
       "4  0.243682    True             Doberman  0.154629    True  "
      ]
     },
     "execution_count": 649,
     "metadata": {},
     "output_type": "execute_result"
    }
   ],
   "source": [
    "df_im = pd.read_csv('image_predictions.tsv',sep='\\t')\n",
    "df_im.head()"
   ]
  },
  {
   "cell_type": "markdown",
   "id": "subjective-sherman",
   "metadata": {},
   "source": [
    "##### Inspecting data types and completness"
   ]
  },
  {
   "cell_type": "code",
   "execution_count": 650,
   "id": "instructional-edmonton",
   "metadata": {},
   "outputs": [
    {
     "name": "stdout",
     "output_type": "stream",
     "text": [
      "<class 'pandas.core.frame.DataFrame'>\n",
      "RangeIndex: 2330 entries, 0 to 2329\n",
      "Data columns (total 32 columns):\n",
      " #   Column                         Non-Null Count  Dtype              \n",
      "---  ------                         --------------  -----              \n",
      " 0   created_at                     2330 non-null   datetime64[ns, UTC]\n",
      " 1   id                             2330 non-null   int64              \n",
      " 2   id_str                         2330 non-null   int64              \n",
      " 3   full_text                      2330 non-null   object             \n",
      " 4   truncated                      2330 non-null   bool               \n",
      " 5   display_text_range             2330 non-null   object             \n",
      " 6   entities                       2330 non-null   object             \n",
      " 7   extended_entities              2058 non-null   object             \n",
      " 8   source                         2330 non-null   object             \n",
      " 9   in_reply_to_status_id          77 non-null     float64            \n",
      " 10  in_reply_to_status_id_str      77 non-null     float64            \n",
      " 11  in_reply_to_user_id            77 non-null     float64            \n",
      " 12  in_reply_to_user_id_str        77 non-null     float64            \n",
      " 13  in_reply_to_screen_name        77 non-null     object             \n",
      " 14  user                           2330 non-null   object             \n",
      " 15  geo                            0 non-null      float64            \n",
      " 16  coordinates                    0 non-null      float64            \n",
      " 17  place                          1 non-null      object             \n",
      " 18  contributors                   0 non-null      float64            \n",
      " 19  is_quote_status                2330 non-null   bool               \n",
      " 20  retweet_count                  2330 non-null   int64              \n",
      " 21  favorite_count                 2330 non-null   int64              \n",
      " 22  favorited                      2330 non-null   bool               \n",
      " 23  retweeted                      2330 non-null   bool               \n",
      " 24  possibly_sensitive             2196 non-null   float64            \n",
      " 25  possibly_sensitive_appealable  2196 non-null   float64            \n",
      " 26  lang                           2330 non-null   object             \n",
      " 27  retweeted_status               163 non-null    object             \n",
      " 28  quoted_status_id               26 non-null     float64            \n",
      " 29  quoted_status_id_str           26 non-null     float64            \n",
      " 30  quoted_status_permalink        26 non-null     object             \n",
      " 31  quoted_status                  24 non-null     object             \n",
      "dtypes: bool(4), datetime64[ns, UTC](1), float64(11), int64(4), object(12)\n",
      "memory usage: 518.9+ KB\n"
     ]
    }
   ],
   "source": [
    "df_1.info()"
   ]
  },
  {
   "cell_type": "code",
   "execution_count": 651,
   "id": "dangerous-acoustic",
   "metadata": {},
   "outputs": [
    {
     "name": "stdout",
     "output_type": "stream",
     "text": [
      "<class 'pandas.core.frame.DataFrame'>\n",
      "RangeIndex: 2075 entries, 0 to 2074\n",
      "Data columns (total 12 columns):\n",
      " #   Column    Non-Null Count  Dtype  \n",
      "---  ------    --------------  -----  \n",
      " 0   tweet_id  2075 non-null   int64  \n",
      " 1   jpg_url   2075 non-null   object \n",
      " 2   img_num   2075 non-null   int64  \n",
      " 3   p1        2075 non-null   object \n",
      " 4   p1_conf   2075 non-null   float64\n",
      " 5   p1_dog    2075 non-null   bool   \n",
      " 6   p2        2075 non-null   object \n",
      " 7   p2_conf   2075 non-null   float64\n",
      " 8   p2_dog    2075 non-null   bool   \n",
      " 9   p3        2075 non-null   object \n",
      " 10  p3_conf   2075 non-null   float64\n",
      " 11  p3_dog    2075 non-null   bool   \n",
      "dtypes: bool(3), float64(3), int64(2), object(4)\n",
      "memory usage: 152.1+ KB\n"
     ]
    }
   ],
   "source": [
    "df_im.info()"
   ]
  },
  {
   "cell_type": "markdown",
   "id": "flying-tactics",
   "metadata": {},
   "source": [
    "##### Inspecting numerical data points"
   ]
  },
  {
   "cell_type": "code",
   "execution_count": 652,
   "id": "negative-beaver",
   "metadata": {},
   "outputs": [
    {
     "data": {
      "text/html": [
       "<div>\n",
       "<style scoped>\n",
       "    .dataframe tbody tr th:only-of-type {\n",
       "        vertical-align: middle;\n",
       "    }\n",
       "\n",
       "    .dataframe tbody tr th {\n",
       "        vertical-align: top;\n",
       "    }\n",
       "\n",
       "    .dataframe thead th {\n",
       "        text-align: right;\n",
       "    }\n",
       "</style>\n",
       "<table border=\"1\" class=\"dataframe\">\n",
       "  <thead>\n",
       "    <tr style=\"text-align: right;\">\n",
       "      <th></th>\n",
       "      <th>id</th>\n",
       "      <th>id_str</th>\n",
       "      <th>in_reply_to_status_id</th>\n",
       "      <th>in_reply_to_status_id_str</th>\n",
       "      <th>in_reply_to_user_id</th>\n",
       "      <th>in_reply_to_user_id_str</th>\n",
       "      <th>geo</th>\n",
       "      <th>coordinates</th>\n",
       "      <th>contributors</th>\n",
       "      <th>retweet_count</th>\n",
       "      <th>favorite_count</th>\n",
       "      <th>possibly_sensitive</th>\n",
       "      <th>possibly_sensitive_appealable</th>\n",
       "      <th>quoted_status_id</th>\n",
       "      <th>quoted_status_id_str</th>\n",
       "    </tr>\n",
       "  </thead>\n",
       "  <tbody>\n",
       "    <tr>\n",
       "      <th>count</th>\n",
       "      <td>2.330000e+03</td>\n",
       "      <td>2.330000e+03</td>\n",
       "      <td>7.700000e+01</td>\n",
       "      <td>7.700000e+01</td>\n",
       "      <td>7.700000e+01</td>\n",
       "      <td>7.700000e+01</td>\n",
       "      <td>0.0</td>\n",
       "      <td>0.0</td>\n",
       "      <td>0.0</td>\n",
       "      <td>2330.000000</td>\n",
       "      <td>2330.000000</td>\n",
       "      <td>2196.0</td>\n",
       "      <td>2196.0</td>\n",
       "      <td>2.600000e+01</td>\n",
       "      <td>2.600000e+01</td>\n",
       "    </tr>\n",
       "    <tr>\n",
       "      <th>mean</th>\n",
       "      <td>7.419357e+17</td>\n",
       "      <td>7.419357e+17</td>\n",
       "      <td>7.440692e+17</td>\n",
       "      <td>7.440692e+17</td>\n",
       "      <td>2.040329e+16</td>\n",
       "      <td>2.040329e+16</td>\n",
       "      <td>NaN</td>\n",
       "      <td>NaN</td>\n",
       "      <td>NaN</td>\n",
       "      <td>2567.603004</td>\n",
       "      <td>7270.854936</td>\n",
       "      <td>0.0</td>\n",
       "      <td>0.0</td>\n",
       "      <td>8.113972e+17</td>\n",
       "      <td>8.113972e+17</td>\n",
       "    </tr>\n",
       "    <tr>\n",
       "      <th>std</th>\n",
       "      <td>6.823308e+16</td>\n",
       "      <td>6.823308e+16</td>\n",
       "      <td>7.524295e+16</td>\n",
       "      <td>7.524295e+16</td>\n",
       "      <td>1.260797e+17</td>\n",
       "      <td>1.260797e+17</td>\n",
       "      <td>NaN</td>\n",
       "      <td>NaN</td>\n",
       "      <td>NaN</td>\n",
       "      <td>4342.954326</td>\n",
       "      <td>11294.399108</td>\n",
       "      <td>0.0</td>\n",
       "      <td>0.0</td>\n",
       "      <td>6.295843e+16</td>\n",
       "      <td>6.295843e+16</td>\n",
       "    </tr>\n",
       "    <tr>\n",
       "      <th>min</th>\n",
       "      <td>6.660209e+17</td>\n",
       "      <td>6.660209e+17</td>\n",
       "      <td>6.658147e+17</td>\n",
       "      <td>6.658147e+17</td>\n",
       "      <td>1.185634e+07</td>\n",
       "      <td>1.185634e+07</td>\n",
       "      <td>NaN</td>\n",
       "      <td>NaN</td>\n",
       "      <td>NaN</td>\n",
       "      <td>1.000000</td>\n",
       "      <td>0.000000</td>\n",
       "      <td>0.0</td>\n",
       "      <td>0.0</td>\n",
       "      <td>6.721083e+17</td>\n",
       "      <td>6.721083e+17</td>\n",
       "    </tr>\n",
       "    <tr>\n",
       "      <th>25%</th>\n",
       "      <td>6.782926e+17</td>\n",
       "      <td>6.782926e+17</td>\n",
       "      <td>6.757073e+17</td>\n",
       "      <td>6.757073e+17</td>\n",
       "      <td>3.589728e+08</td>\n",
       "      <td>3.589728e+08</td>\n",
       "      <td>NaN</td>\n",
       "      <td>NaN</td>\n",
       "      <td>NaN</td>\n",
       "      <td>519.500000</td>\n",
       "      <td>1256.500000</td>\n",
       "      <td>0.0</td>\n",
       "      <td>0.0</td>\n",
       "      <td>7.761338e+17</td>\n",
       "      <td>7.761338e+17</td>\n",
       "    </tr>\n",
       "    <tr>\n",
       "      <th>50%</th>\n",
       "      <td>7.183508e+17</td>\n",
       "      <td>7.183508e+17</td>\n",
       "      <td>7.032559e+17</td>\n",
       "      <td>7.032559e+17</td>\n",
       "      <td>4.196984e+09</td>\n",
       "      <td>4.196984e+09</td>\n",
       "      <td>NaN</td>\n",
       "      <td>NaN</td>\n",
       "      <td>NaN</td>\n",
       "      <td>1197.500000</td>\n",
       "      <td>3148.000000</td>\n",
       "      <td>0.0</td>\n",
       "      <td>0.0</td>\n",
       "      <td>8.281173e+17</td>\n",
       "      <td>8.281173e+17</td>\n",
       "    </tr>\n",
       "    <tr>\n",
       "      <th>75%</th>\n",
       "      <td>7.986712e+17</td>\n",
       "      <td>7.986712e+17</td>\n",
       "      <td>8.233264e+17</td>\n",
       "      <td>8.233264e+17</td>\n",
       "      <td>4.196984e+09</td>\n",
       "      <td>4.196984e+09</td>\n",
       "      <td>NaN</td>\n",
       "      <td>NaN</td>\n",
       "      <td>NaN</td>\n",
       "      <td>2974.000000</td>\n",
       "      <td>8882.750000</td>\n",
       "      <td>0.0</td>\n",
       "      <td>0.0</td>\n",
       "      <td>8.637581e+17</td>\n",
       "      <td>8.637581e+17</td>\n",
       "    </tr>\n",
       "    <tr>\n",
       "      <th>max</th>\n",
       "      <td>8.924206e+17</td>\n",
       "      <td>8.924206e+17</td>\n",
       "      <td>8.862664e+17</td>\n",
       "      <td>8.862664e+17</td>\n",
       "      <td>8.405479e+17</td>\n",
       "      <td>8.405479e+17</td>\n",
       "      <td>NaN</td>\n",
       "      <td>NaN</td>\n",
       "      <td>NaN</td>\n",
       "      <td>73603.000000</td>\n",
       "      <td>149529.000000</td>\n",
       "      <td>0.0</td>\n",
       "      <td>0.0</td>\n",
       "      <td>8.860534e+17</td>\n",
       "      <td>8.860534e+17</td>\n",
       "    </tr>\n",
       "  </tbody>\n",
       "</table>\n",
       "</div>"
      ],
      "text/plain": [
       "                 id        id_str  in_reply_to_status_id  \\\n",
       "count  2.330000e+03  2.330000e+03           7.700000e+01   \n",
       "mean   7.419357e+17  7.419357e+17           7.440692e+17   \n",
       "std    6.823308e+16  6.823308e+16           7.524295e+16   \n",
       "min    6.660209e+17  6.660209e+17           6.658147e+17   \n",
       "25%    6.782926e+17  6.782926e+17           6.757073e+17   \n",
       "50%    7.183508e+17  7.183508e+17           7.032559e+17   \n",
       "75%    7.986712e+17  7.986712e+17           8.233264e+17   \n",
       "max    8.924206e+17  8.924206e+17           8.862664e+17   \n",
       "\n",
       "       in_reply_to_status_id_str  in_reply_to_user_id  \\\n",
       "count               7.700000e+01         7.700000e+01   \n",
       "mean                7.440692e+17         2.040329e+16   \n",
       "std                 7.524295e+16         1.260797e+17   \n",
       "min                 6.658147e+17         1.185634e+07   \n",
       "25%                 6.757073e+17         3.589728e+08   \n",
       "50%                 7.032559e+17         4.196984e+09   \n",
       "75%                 8.233264e+17         4.196984e+09   \n",
       "max                 8.862664e+17         8.405479e+17   \n",
       "\n",
       "       in_reply_to_user_id_str  geo  coordinates  contributors  retweet_count  \\\n",
       "count             7.700000e+01  0.0          0.0           0.0    2330.000000   \n",
       "mean              2.040329e+16  NaN          NaN           NaN    2567.603004   \n",
       "std               1.260797e+17  NaN          NaN           NaN    4342.954326   \n",
       "min               1.185634e+07  NaN          NaN           NaN       1.000000   \n",
       "25%               3.589728e+08  NaN          NaN           NaN     519.500000   \n",
       "50%               4.196984e+09  NaN          NaN           NaN    1197.500000   \n",
       "75%               4.196984e+09  NaN          NaN           NaN    2974.000000   \n",
       "max               8.405479e+17  NaN          NaN           NaN   73603.000000   \n",
       "\n",
       "       favorite_count  possibly_sensitive  possibly_sensitive_appealable  \\\n",
       "count     2330.000000              2196.0                         2196.0   \n",
       "mean      7270.854936                 0.0                            0.0   \n",
       "std      11294.399108                 0.0                            0.0   \n",
       "min          0.000000                 0.0                            0.0   \n",
       "25%       1256.500000                 0.0                            0.0   \n",
       "50%       3148.000000                 0.0                            0.0   \n",
       "75%       8882.750000                 0.0                            0.0   \n",
       "max     149529.000000                 0.0                            0.0   \n",
       "\n",
       "       quoted_status_id  quoted_status_id_str  \n",
       "count      2.600000e+01          2.600000e+01  \n",
       "mean       8.113972e+17          8.113972e+17  \n",
       "std        6.295843e+16          6.295843e+16  \n",
       "min        6.721083e+17          6.721083e+17  \n",
       "25%        7.761338e+17          7.761338e+17  \n",
       "50%        8.281173e+17          8.281173e+17  \n",
       "75%        8.637581e+17          8.637581e+17  \n",
       "max        8.860534e+17          8.860534e+17  "
      ]
     },
     "execution_count": 652,
     "metadata": {},
     "output_type": "execute_result"
    }
   ],
   "source": [
    "df_1.describe()"
   ]
  },
  {
   "cell_type": "code",
   "execution_count": 653,
   "id": "signal-importance",
   "metadata": {},
   "outputs": [
    {
     "data": {
      "text/html": [
       "<div>\n",
       "<style scoped>\n",
       "    .dataframe tbody tr th:only-of-type {\n",
       "        vertical-align: middle;\n",
       "    }\n",
       "\n",
       "    .dataframe tbody tr th {\n",
       "        vertical-align: top;\n",
       "    }\n",
       "\n",
       "    .dataframe thead th {\n",
       "        text-align: right;\n",
       "    }\n",
       "</style>\n",
       "<table border=\"1\" class=\"dataframe\">\n",
       "  <thead>\n",
       "    <tr style=\"text-align: right;\">\n",
       "      <th></th>\n",
       "      <th>tweet_id</th>\n",
       "      <th>img_num</th>\n",
       "      <th>p1_conf</th>\n",
       "      <th>p2_conf</th>\n",
       "      <th>p3_conf</th>\n",
       "    </tr>\n",
       "  </thead>\n",
       "  <tbody>\n",
       "    <tr>\n",
       "      <th>count</th>\n",
       "      <td>2.075000e+03</td>\n",
       "      <td>2075.000000</td>\n",
       "      <td>2075.000000</td>\n",
       "      <td>2.075000e+03</td>\n",
       "      <td>2.075000e+03</td>\n",
       "    </tr>\n",
       "    <tr>\n",
       "      <th>mean</th>\n",
       "      <td>7.384514e+17</td>\n",
       "      <td>1.203855</td>\n",
       "      <td>0.594548</td>\n",
       "      <td>1.345886e-01</td>\n",
       "      <td>6.032417e-02</td>\n",
       "    </tr>\n",
       "    <tr>\n",
       "      <th>std</th>\n",
       "      <td>6.785203e+16</td>\n",
       "      <td>0.561875</td>\n",
       "      <td>0.271174</td>\n",
       "      <td>1.006657e-01</td>\n",
       "      <td>5.090593e-02</td>\n",
       "    </tr>\n",
       "    <tr>\n",
       "      <th>min</th>\n",
       "      <td>6.660209e+17</td>\n",
       "      <td>1.000000</td>\n",
       "      <td>0.044333</td>\n",
       "      <td>1.011300e-08</td>\n",
       "      <td>1.740170e-10</td>\n",
       "    </tr>\n",
       "    <tr>\n",
       "      <th>25%</th>\n",
       "      <td>6.764835e+17</td>\n",
       "      <td>1.000000</td>\n",
       "      <td>0.364412</td>\n",
       "      <td>5.388625e-02</td>\n",
       "      <td>1.622240e-02</td>\n",
       "    </tr>\n",
       "    <tr>\n",
       "      <th>50%</th>\n",
       "      <td>7.119988e+17</td>\n",
       "      <td>1.000000</td>\n",
       "      <td>0.588230</td>\n",
       "      <td>1.181810e-01</td>\n",
       "      <td>4.944380e-02</td>\n",
       "    </tr>\n",
       "    <tr>\n",
       "      <th>75%</th>\n",
       "      <td>7.932034e+17</td>\n",
       "      <td>1.000000</td>\n",
       "      <td>0.843855</td>\n",
       "      <td>1.955655e-01</td>\n",
       "      <td>9.180755e-02</td>\n",
       "    </tr>\n",
       "    <tr>\n",
       "      <th>max</th>\n",
       "      <td>8.924206e+17</td>\n",
       "      <td>4.000000</td>\n",
       "      <td>1.000000</td>\n",
       "      <td>4.880140e-01</td>\n",
       "      <td>2.734190e-01</td>\n",
       "    </tr>\n",
       "  </tbody>\n",
       "</table>\n",
       "</div>"
      ],
      "text/plain": [
       "           tweet_id      img_num      p1_conf       p2_conf       p3_conf\n",
       "count  2.075000e+03  2075.000000  2075.000000  2.075000e+03  2.075000e+03\n",
       "mean   7.384514e+17     1.203855     0.594548  1.345886e-01  6.032417e-02\n",
       "std    6.785203e+16     0.561875     0.271174  1.006657e-01  5.090593e-02\n",
       "min    6.660209e+17     1.000000     0.044333  1.011300e-08  1.740170e-10\n",
       "25%    6.764835e+17     1.000000     0.364412  5.388625e-02  1.622240e-02\n",
       "50%    7.119988e+17     1.000000     0.588230  1.181810e-01  4.944380e-02\n",
       "75%    7.932034e+17     1.000000     0.843855  1.955655e-01  9.180755e-02\n",
       "max    8.924206e+17     4.000000     1.000000  4.880140e-01  2.734190e-01"
      ]
     },
     "execution_count": 653,
     "metadata": {},
     "output_type": "execute_result"
    }
   ],
   "source": [
    "df_im.describe()"
   ]
  },
  {
   "cell_type": "code",
   "execution_count": 654,
   "id": "adequate-impact",
   "metadata": {},
   "outputs": [
    {
     "data": {
      "text/plain": [
       "335079"
      ]
     },
     "execution_count": 654,
     "metadata": {},
     "output_type": "execute_result"
    }
   ],
   "source": [
    "url = 'https://d17h27t6h515a5.cloudfront.net/topher/2017/August/599fd2ad_image-predictions/image-predictions.tsv'\n",
    "r = requests.get(url,allow_redirects=True)\n",
    "open('image_predictions.tsv','wb').write(r.content)"
   ]
  },
  {
   "cell_type": "markdown",
   "id": "upset-heating",
   "metadata": {},
   "source": [
    "##### Duplicate check"
   ]
  },
  {
   "cell_type": "code",
   "execution_count": 655,
   "id": "unauthorized-wildlife",
   "metadata": {},
   "outputs": [
    {
     "data": {
      "text/plain": [
       "0"
      ]
     },
     "execution_count": 655,
     "metadata": {},
     "output_type": "execute_result"
    }
   ],
   "source": [
    "df_im.tweet_id.duplicated().sum()"
   ]
  },
  {
   "cell_type": "code",
   "execution_count": 656,
   "id": "young-saint",
   "metadata": {},
   "outputs": [
    {
     "data": {
      "text/plain": [
       "0"
      ]
     },
     "execution_count": 656,
     "metadata": {},
     "output_type": "execute_result"
    }
   ],
   "source": [
    "df_1.id.duplicated().sum()"
   ]
  },
  {
   "cell_type": "markdown",
   "id": "ceramic-screen",
   "metadata": {},
   "source": [
    "## Quality observations\n",
    "\n",
    "1. Changes lang header in Tweets to language and id to tweet_id in tweets data frame\n",
    "2. Change value types for id, tweet_id to object\n",
    "3. Additional finding - extracted dog ratings must be changed to integer \n",
    "4. Add column with dog score (numerator divided by denominator). This is more standardized/comparable rating\n",
    "5. Change date format to just dd/mm/yyyy (this is not necessary but I am just not interested in exact date stamp)\n",
    "6. Change language abbreviations to full name (I found it hard to understand what few mean).\n",
    "7. Drop non-dogs from the list such as desktop computer, turtle and etc. - image file\n",
    "8. Extract breed in one column\n",
    "9. Remove underscore from dog breed\n",
    "10. Change dog breed to lowercase - image file\n",
    "## Additional quality observations after extracting dog ratings \n",
    "9. Need to drop / in ratings columns change data type to int for dog_rating_denom and dog_rating_num\n",
    "10. Rows 45, 328,745 have float numerators - needs to changed\n",
    "11. Row 300 has two ratings and current pulled one is wrong (spotted due to 00 denominator)"
   ]
  },
  {
   "cell_type": "markdown",
   "id": "interpreted-circle",
   "metadata": {},
   "source": [
    "## Tideness observations\n",
    "\n",
    "1. Extract dog rating from tweet text\n",
    "2. Extract device type how tweet was published\n",
    "3. Evaluate which columns are not needed for the research and remove them"
   ]
  },
  {
   "cell_type": "markdown",
   "id": "qualified-vampire",
   "metadata": {},
   "source": [
    "## Data wrangling - Tidness"
   ]
  },
  {
   "cell_type": "markdown",
   "id": "infrared-detroit",
   "metadata": {},
   "source": [
    "Creating copy of both data frames before making any changes"
   ]
  },
  {
   "cell_type": "code",
   "execution_count": 657,
   "id": "finite-venue",
   "metadata": {},
   "outputs": [],
   "source": [
    "tweets = df_1.copy()\n",
    "images = df_im.copy()"
   ]
  },
  {
   "cell_type": "code",
   "execution_count": 658,
   "id": "funded-signal",
   "metadata": {},
   "outputs": [
    {
     "name": "stdout",
     "output_type": "stream",
     "text": [
      "<class 'pandas.core.frame.DataFrame'>\n",
      "RangeIndex: 2330 entries, 0 to 2329\n",
      "Data columns (total 32 columns):\n",
      " #   Column                         Non-Null Count  Dtype              \n",
      "---  ------                         --------------  -----              \n",
      " 0   created_at                     2330 non-null   datetime64[ns, UTC]\n",
      " 1   id                             2330 non-null   int64              \n",
      " 2   id_str                         2330 non-null   int64              \n",
      " 3   full_text                      2330 non-null   object             \n",
      " 4   truncated                      2330 non-null   bool               \n",
      " 5   display_text_range             2330 non-null   object             \n",
      " 6   entities                       2330 non-null   object             \n",
      " 7   extended_entities              2058 non-null   object             \n",
      " 8   source                         2330 non-null   object             \n",
      " 9   in_reply_to_status_id          77 non-null     float64            \n",
      " 10  in_reply_to_status_id_str      77 non-null     float64            \n",
      " 11  in_reply_to_user_id            77 non-null     float64            \n",
      " 12  in_reply_to_user_id_str        77 non-null     float64            \n",
      " 13  in_reply_to_screen_name        77 non-null     object             \n",
      " 14  user                           2330 non-null   object             \n",
      " 15  geo                            0 non-null      float64            \n",
      " 16  coordinates                    0 non-null      float64            \n",
      " 17  place                          1 non-null      object             \n",
      " 18  contributors                   0 non-null      float64            \n",
      " 19  is_quote_status                2330 non-null   bool               \n",
      " 20  retweet_count                  2330 non-null   int64              \n",
      " 21  favorite_count                 2330 non-null   int64              \n",
      " 22  favorited                      2330 non-null   bool               \n",
      " 23  retweeted                      2330 non-null   bool               \n",
      " 24  possibly_sensitive             2196 non-null   float64            \n",
      " 25  possibly_sensitive_appealable  2196 non-null   float64            \n",
      " 26  lang                           2330 non-null   object             \n",
      " 27  retweeted_status               163 non-null    object             \n",
      " 28  quoted_status_id               26 non-null     float64            \n",
      " 29  quoted_status_id_str           26 non-null     float64            \n",
      " 30  quoted_status_permalink        26 non-null     object             \n",
      " 31  quoted_status                  24 non-null     object             \n",
      "dtypes: bool(4), datetime64[ns, UTC](1), float64(11), int64(4), object(12)\n",
      "memory usage: 518.9+ KB\n"
     ]
    }
   ],
   "source": [
    "tweets.info()"
   ]
  },
  {
   "cell_type": "code",
   "execution_count": 659,
   "id": "numeric-queue",
   "metadata": {},
   "outputs": [
    {
     "data": {
      "text/html": [
       "<div>\n",
       "<style scoped>\n",
       "    .dataframe tbody tr th:only-of-type {\n",
       "        vertical-align: middle;\n",
       "    }\n",
       "\n",
       "    .dataframe tbody tr th {\n",
       "        vertical-align: top;\n",
       "    }\n",
       "\n",
       "    .dataframe thead th {\n",
       "        text-align: right;\n",
       "    }\n",
       "</style>\n",
       "<table border=\"1\" class=\"dataframe\">\n",
       "  <thead>\n",
       "    <tr style=\"text-align: right;\">\n",
       "      <th></th>\n",
       "      <th>created_at</th>\n",
       "      <th>id</th>\n",
       "      <th>id_str</th>\n",
       "      <th>full_text</th>\n",
       "      <th>truncated</th>\n",
       "      <th>display_text_range</th>\n",
       "      <th>entities</th>\n",
       "      <th>extended_entities</th>\n",
       "      <th>source</th>\n",
       "      <th>in_reply_to_status_id</th>\n",
       "      <th>...</th>\n",
       "      <th>favorited</th>\n",
       "      <th>retweeted</th>\n",
       "      <th>possibly_sensitive</th>\n",
       "      <th>possibly_sensitive_appealable</th>\n",
       "      <th>lang</th>\n",
       "      <th>retweeted_status</th>\n",
       "      <th>quoted_status_id</th>\n",
       "      <th>quoted_status_id_str</th>\n",
       "      <th>quoted_status_permalink</th>\n",
       "      <th>quoted_status</th>\n",
       "    </tr>\n",
       "  </thead>\n",
       "  <tbody>\n",
       "    <tr>\n",
       "      <th>0</th>\n",
       "      <td>2017-08-01 16:23:56+00:00</td>\n",
       "      <td>892420643555336193</td>\n",
       "      <td>892420643555336192</td>\n",
       "      <td>This is Phineas. He's a mystical boy. Only eve...</td>\n",
       "      <td>False</td>\n",
       "      <td>[0, 85]</td>\n",
       "      <td>{'hashtags': [], 'symbols': [], 'user_mentions...</td>\n",
       "      <td>{'media': [{'id': 892420639486877696, 'id_str'...</td>\n",
       "      <td>&lt;a href=\"http://twitter.com/download/iphone\" r...</td>\n",
       "      <td>NaN</td>\n",
       "      <td>...</td>\n",
       "      <td>False</td>\n",
       "      <td>False</td>\n",
       "      <td>0.0</td>\n",
       "      <td>0.0</td>\n",
       "      <td>en</td>\n",
       "      <td>NaN</td>\n",
       "      <td>NaN</td>\n",
       "      <td>NaN</td>\n",
       "      <td>NaN</td>\n",
       "      <td>NaN</td>\n",
       "    </tr>\n",
       "  </tbody>\n",
       "</table>\n",
       "<p>1 rows × 32 columns</p>\n",
       "</div>"
      ],
      "text/plain": [
       "                 created_at                  id              id_str  \\\n",
       "0 2017-08-01 16:23:56+00:00  892420643555336193  892420643555336192   \n",
       "\n",
       "                                           full_text  truncated  \\\n",
       "0  This is Phineas. He's a mystical boy. Only eve...      False   \n",
       "\n",
       "  display_text_range                                           entities  \\\n",
       "0            [0, 85]  {'hashtags': [], 'symbols': [], 'user_mentions...   \n",
       "\n",
       "                                   extended_entities  \\\n",
       "0  {'media': [{'id': 892420639486877696, 'id_str'...   \n",
       "\n",
       "                                              source  in_reply_to_status_id  \\\n",
       "0  <a href=\"http://twitter.com/download/iphone\" r...                    NaN   \n",
       "\n",
       "   ...  favorited  retweeted  possibly_sensitive  \\\n",
       "0  ...      False      False                 0.0   \n",
       "\n",
       "  possibly_sensitive_appealable lang  retweeted_status  quoted_status_id  \\\n",
       "0                           0.0   en               NaN               NaN   \n",
       "\n",
       "  quoted_status_id_str  quoted_status_permalink  quoted_status  \n",
       "0                  NaN                      NaN            NaN  \n",
       "\n",
       "[1 rows x 32 columns]"
      ]
     },
     "execution_count": 659,
     "metadata": {},
     "output_type": "execute_result"
    }
   ],
   "source": [
    "tweets.head(1)"
   ]
  },
  {
   "cell_type": "markdown",
   "id": "challenging-glossary",
   "metadata": {},
   "source": [
    "1. ##### Finding device source\n",
    "\n",
    "After inspecting dataset I found 3 different data sources - iphone, make a scene (twitter specific moments creation via web only), and web device. Even though make a scene is created via web I believe it's worth keeping in as separete source because it's not just a regular tweet shared via web."
   ]
  },
  {
   "cell_type": "code",
   "execution_count": 660,
   "id": "hungry-article",
   "metadata": {},
   "outputs": [],
   "source": [
    "#function to find all devices that tweet was published\n",
    "def find_device(column,device):\n",
    "    tweets[column] = tweets.source.str.findall(device)"
   ]
  },
  {
   "cell_type": "code",
   "execution_count": 661,
   "id": "unauthorized-supervisor",
   "metadata": {},
   "outputs": [],
   "source": [
    "#find iphone\n",
    "find_device('iphone_user','iPhone')\n",
    "\n",
    "#find make a scene\n",
    "find_device('make_a_scene','Make a Scene')\n",
    "\n",
    "#find web\n",
    "find_device('web','web')"
   ]
  },
  {
   "cell_type": "code",
   "execution_count": 662,
   "id": "disabled-costume",
   "metadata": {},
   "outputs": [],
   "source": [
    "#creating new aggregated column\n",
    "tweets['source_dev'] = tweets['iphone_user'] + tweets['make_a_scene'] + tweets['web']"
   ]
  },
  {
   "cell_type": "code",
   "execution_count": 663,
   "id": "intimate-situation",
   "metadata": {},
   "outputs": [],
   "source": [
    "#changing lists to strings\n",
    "tweets['publish_type'] = [''.join(map(str, l)) for l in tweets['source_dev']]"
   ]
  },
  {
   "cell_type": "code",
   "execution_count": 664,
   "id": "identical-boating",
   "metadata": {},
   "outputs": [
    {
     "data": {
      "text/html": [
       "<div>\n",
       "<style scoped>\n",
       "    .dataframe tbody tr th:only-of-type {\n",
       "        vertical-align: middle;\n",
       "    }\n",
       "\n",
       "    .dataframe tbody tr th {\n",
       "        vertical-align: top;\n",
       "    }\n",
       "\n",
       "    .dataframe thead th {\n",
       "        text-align: right;\n",
       "    }\n",
       "</style>\n",
       "<table border=\"1\" class=\"dataframe\">\n",
       "  <thead>\n",
       "    <tr style=\"text-align: right;\">\n",
       "      <th></th>\n",
       "      <th>created_at</th>\n",
       "      <th>id</th>\n",
       "      <th>id_str</th>\n",
       "      <th>full_text</th>\n",
       "      <th>truncated</th>\n",
       "      <th>display_text_range</th>\n",
       "      <th>entities</th>\n",
       "      <th>extended_entities</th>\n",
       "      <th>source</th>\n",
       "      <th>in_reply_to_status_id</th>\n",
       "      <th>...</th>\n",
       "      <th>retweeted_status</th>\n",
       "      <th>quoted_status_id</th>\n",
       "      <th>quoted_status_id_str</th>\n",
       "      <th>quoted_status_permalink</th>\n",
       "      <th>quoted_status</th>\n",
       "      <th>iphone_user</th>\n",
       "      <th>make_a_scene</th>\n",
       "      <th>web</th>\n",
       "      <th>source_dev</th>\n",
       "      <th>publish_type</th>\n",
       "    </tr>\n",
       "  </thead>\n",
       "  <tbody>\n",
       "    <tr>\n",
       "      <th>0</th>\n",
       "      <td>2017-08-01 16:23:56+00:00</td>\n",
       "      <td>892420643555336193</td>\n",
       "      <td>892420643555336192</td>\n",
       "      <td>This is Phineas. He's a mystical boy. Only eve...</td>\n",
       "      <td>False</td>\n",
       "      <td>[0, 85]</td>\n",
       "      <td>{'hashtags': [], 'symbols': [], 'user_mentions...</td>\n",
       "      <td>{'media': [{'id': 892420639486877696, 'id_str'...</td>\n",
       "      <td>&lt;a href=\"http://twitter.com/download/iphone\" r...</td>\n",
       "      <td>NaN</td>\n",
       "      <td>...</td>\n",
       "      <td>NaN</td>\n",
       "      <td>NaN</td>\n",
       "      <td>NaN</td>\n",
       "      <td>NaN</td>\n",
       "      <td>NaN</td>\n",
       "      <td>[iPhone]</td>\n",
       "      <td>[]</td>\n",
       "      <td>[]</td>\n",
       "      <td>[iPhone]</td>\n",
       "      <td>iPhone</td>\n",
       "    </tr>\n",
       "  </tbody>\n",
       "</table>\n",
       "<p>1 rows × 37 columns</p>\n",
       "</div>"
      ],
      "text/plain": [
       "                 created_at                  id              id_str  \\\n",
       "0 2017-08-01 16:23:56+00:00  892420643555336193  892420643555336192   \n",
       "\n",
       "                                           full_text  truncated  \\\n",
       "0  This is Phineas. He's a mystical boy. Only eve...      False   \n",
       "\n",
       "  display_text_range                                           entities  \\\n",
       "0            [0, 85]  {'hashtags': [], 'symbols': [], 'user_mentions...   \n",
       "\n",
       "                                   extended_entities  \\\n",
       "0  {'media': [{'id': 892420639486877696, 'id_str'...   \n",
       "\n",
       "                                              source  in_reply_to_status_id  \\\n",
       "0  <a href=\"http://twitter.com/download/iphone\" r...                    NaN   \n",
       "\n",
       "   ...  retweeted_status  quoted_status_id  quoted_status_id_str  \\\n",
       "0  ...               NaN               NaN                   NaN   \n",
       "\n",
       "  quoted_status_permalink quoted_status  iphone_user  make_a_scene web  \\\n",
       "0                     NaN           NaN     [iPhone]            []  []   \n",
       "\n",
       "   source_dev  publish_type  \n",
       "0    [iPhone]        iPhone  \n",
       "\n",
       "[1 rows x 37 columns]"
      ]
     },
     "execution_count": 664,
     "metadata": {},
     "output_type": "execute_result"
    }
   ],
   "source": [
    "tweets.head(1)"
   ]
  },
  {
   "cell_type": "markdown",
   "id": "happy-biodiversity",
   "metadata": {},
   "source": [
    "2. ##### Extracting dog ratings"
   ]
  },
  {
   "cell_type": "markdown",
   "id": "adjustable-heritage",
   "metadata": {},
   "source": [
    "for quality and future analysis purposes I use regex to get numerator and demonimator as separete columns and adding 3rd one where I pull them together. Third one serves me as additional quality check in case more than 1 rating is present in review or anything is off."
   ]
  },
  {
   "cell_type": "code",
   "execution_count": 665,
   "id": "liberal-universal",
   "metadata": {},
   "outputs": [],
   "source": [
    "#function to get dog rating using regex\n",
    "def extract_ratings(new_column,regex):\n",
    "    tweets[new_column] = tweets.full_text.str.extract(regex,expand=True)"
   ]
  },
  {
   "cell_type": "code",
   "execution_count": 666,
   "id": "olympic-variance",
   "metadata": {},
   "outputs": [],
   "source": [
    "#numerator\n",
    "extract_ratings('dog_rating_num','(\\d{1,4}\\/)')\n",
    "\n",
    "#denominator\n",
    "extract_ratings('dog_rating_denom','(\\/\\d{1,4})')\n",
    "\n",
    "#together for quality check\n",
    "extract_ratings('dog_rating','(\\(?\\d{1,4}\\)?\\/?\\d{1,4})')"
   ]
  },
  {
   "cell_type": "code",
   "execution_count": 667,
   "id": "collaborative-college",
   "metadata": {},
   "outputs": [
    {
     "data": {
      "text/html": [
       "<div>\n",
       "<style scoped>\n",
       "    .dataframe tbody tr th:only-of-type {\n",
       "        vertical-align: middle;\n",
       "    }\n",
       "\n",
       "    .dataframe tbody tr th {\n",
       "        vertical-align: top;\n",
       "    }\n",
       "\n",
       "    .dataframe thead th {\n",
       "        text-align: right;\n",
       "    }\n",
       "</style>\n",
       "<table border=\"1\" class=\"dataframe\">\n",
       "  <thead>\n",
       "    <tr style=\"text-align: right;\">\n",
       "      <th></th>\n",
       "      <th>created_at</th>\n",
       "      <th>id</th>\n",
       "      <th>id_str</th>\n",
       "      <th>full_text</th>\n",
       "      <th>truncated</th>\n",
       "      <th>display_text_range</th>\n",
       "      <th>entities</th>\n",
       "      <th>extended_entities</th>\n",
       "      <th>source</th>\n",
       "      <th>in_reply_to_status_id</th>\n",
       "      <th>...</th>\n",
       "      <th>quoted_status_permalink</th>\n",
       "      <th>quoted_status</th>\n",
       "      <th>iphone_user</th>\n",
       "      <th>make_a_scene</th>\n",
       "      <th>web</th>\n",
       "      <th>source_dev</th>\n",
       "      <th>publish_type</th>\n",
       "      <th>dog_rating_num</th>\n",
       "      <th>dog_rating_denom</th>\n",
       "      <th>dog_rating</th>\n",
       "    </tr>\n",
       "  </thead>\n",
       "  <tbody>\n",
       "    <tr>\n",
       "      <th>0</th>\n",
       "      <td>2017-08-01 16:23:56+00:00</td>\n",
       "      <td>892420643555336193</td>\n",
       "      <td>892420643555336192</td>\n",
       "      <td>This is Phineas. He's a mystical boy. Only eve...</td>\n",
       "      <td>False</td>\n",
       "      <td>[0, 85]</td>\n",
       "      <td>{'hashtags': [], 'symbols': [], 'user_mentions...</td>\n",
       "      <td>{'media': [{'id': 892420639486877696, 'id_str'...</td>\n",
       "      <td>&lt;a href=\"http://twitter.com/download/iphone\" r...</td>\n",
       "      <td>NaN</td>\n",
       "      <td>...</td>\n",
       "      <td>NaN</td>\n",
       "      <td>NaN</td>\n",
       "      <td>[iPhone]</td>\n",
       "      <td>[]</td>\n",
       "      <td>[]</td>\n",
       "      <td>[iPhone]</td>\n",
       "      <td>iPhone</td>\n",
       "      <td>13/</td>\n",
       "      <td>/10</td>\n",
       "      <td>13/10</td>\n",
       "    </tr>\n",
       "  </tbody>\n",
       "</table>\n",
       "<p>1 rows × 40 columns</p>\n",
       "</div>"
      ],
      "text/plain": [
       "                 created_at                  id              id_str  \\\n",
       "0 2017-08-01 16:23:56+00:00  892420643555336193  892420643555336192   \n",
       "\n",
       "                                           full_text  truncated  \\\n",
       "0  This is Phineas. He's a mystical boy. Only eve...      False   \n",
       "\n",
       "  display_text_range                                           entities  \\\n",
       "0            [0, 85]  {'hashtags': [], 'symbols': [], 'user_mentions...   \n",
       "\n",
       "                                   extended_entities  \\\n",
       "0  {'media': [{'id': 892420639486877696, 'id_str'...   \n",
       "\n",
       "                                              source  in_reply_to_status_id  \\\n",
       "0  <a href=\"http://twitter.com/download/iphone\" r...                    NaN   \n",
       "\n",
       "   ...  quoted_status_permalink  quoted_status  iphone_user make_a_scene web  \\\n",
       "0  ...                      NaN            NaN     [iPhone]           []  []   \n",
       "\n",
       "   source_dev  publish_type dog_rating_num  dog_rating_denom  dog_rating  \n",
       "0    [iPhone]        iPhone            13/               /10       13/10  \n",
       "\n",
       "[1 rows x 40 columns]"
      ]
     },
     "execution_count": 667,
     "metadata": {},
     "output_type": "execute_result"
    }
   ],
   "source": [
    "tweets.head(1)"
   ]
  },
  {
   "cell_type": "markdown",
   "id": "deluxe-anchor",
   "metadata": {},
   "source": [
    "##### Exporting dataframe as csv to expect if there are major flaws with rating extraction."
   ]
  },
  {
   "cell_type": "code",
   "execution_count": 668,
   "id": "dangerous-edward",
   "metadata": {},
   "outputs": [],
   "source": [
    "tweets.to_csv('testing1.csv',index=False)"
   ]
  },
  {
   "cell_type": "markdown",
   "id": "sustained-shelter",
   "metadata": {},
   "source": [
    "3. ##### Drop unwanted data"
   ]
  },
  {
   "cell_type": "code",
   "execution_count": 669,
   "id": "medieval-perception",
   "metadata": {},
   "outputs": [],
   "source": [
    "tweets = tweets.drop(['truncated','display_text_range','entities','in_reply_to_status_id',\n",
    "           'in_reply_to_status_id_str','in_reply_to_user_id','in_reply_to_user_id_str',\n",
    "           'in_reply_to_screen_name','geo','coordinates','place','contributors',\n",
    "           'favorited','retweeted','possibly_sensitive','retweeted_status',\n",
    "           'quoted_status_id','quoted_status_id_str','quoted_status_permalink','quoted_status',\n",
    "            'possibly_sensitive_appealable','id_str','extended_entities','user',\n",
    "            'iphone_user','web','make_a_scene','source','source_dev','dog_rating','full_text',\n",
    "            'is_quote_status'],axis=1)"
   ]
  },
  {
   "cell_type": "code",
   "execution_count": 670,
   "id": "referenced-agency",
   "metadata": {},
   "outputs": [
    {
     "data": {
      "text/html": [
       "<div>\n",
       "<style scoped>\n",
       "    .dataframe tbody tr th:only-of-type {\n",
       "        vertical-align: middle;\n",
       "    }\n",
       "\n",
       "    .dataframe tbody tr th {\n",
       "        vertical-align: top;\n",
       "    }\n",
       "\n",
       "    .dataframe thead th {\n",
       "        text-align: right;\n",
       "    }\n",
       "</style>\n",
       "<table border=\"1\" class=\"dataframe\">\n",
       "  <thead>\n",
       "    <tr style=\"text-align: right;\">\n",
       "      <th></th>\n",
       "      <th>created_at</th>\n",
       "      <th>id</th>\n",
       "      <th>retweet_count</th>\n",
       "      <th>favorite_count</th>\n",
       "      <th>lang</th>\n",
       "      <th>publish_type</th>\n",
       "      <th>dog_rating_num</th>\n",
       "      <th>dog_rating_denom</th>\n",
       "    </tr>\n",
       "  </thead>\n",
       "  <tbody>\n",
       "    <tr>\n",
       "      <th>0</th>\n",
       "      <td>2017-08-01 16:23:56+00:00</td>\n",
       "      <td>892420643555336193</td>\n",
       "      <td>7293</td>\n",
       "      <td>34820</td>\n",
       "      <td>en</td>\n",
       "      <td>iPhone</td>\n",
       "      <td>13/</td>\n",
       "      <td>/10</td>\n",
       "    </tr>\n",
       "  </tbody>\n",
       "</table>\n",
       "</div>"
      ],
      "text/plain": [
       "                 created_at                  id  retweet_count  \\\n",
       "0 2017-08-01 16:23:56+00:00  892420643555336193           7293   \n",
       "\n",
       "   favorite_count lang publish_type dog_rating_num dog_rating_denom  \n",
       "0           34820   en       iPhone            13/              /10  "
      ]
     },
     "execution_count": 670,
     "metadata": {},
     "output_type": "execute_result"
    }
   ],
   "source": [
    "tweets.head(1)"
   ]
  },
  {
   "cell_type": "markdown",
   "id": "structural-harbor",
   "metadata": {},
   "source": [
    "# Quality cleaning "
   ]
  },
  {
   "cell_type": "markdown",
   "id": "advanced-tours",
   "metadata": {},
   "source": [
    "1. ##### Changing headers for lang and id in tweet data frame"
   ]
  },
  {
   "cell_type": "code",
   "execution_count": 671,
   "id": "blank-airfare",
   "metadata": {},
   "outputs": [],
   "source": [
    "tweets = tweets.rename(columns={'id':'tweet_id','lang':'language'})"
   ]
  },
  {
   "cell_type": "code",
   "execution_count": 672,
   "id": "equivalent-motel",
   "metadata": {},
   "outputs": [
    {
     "data": {
      "text/html": [
       "<div>\n",
       "<style scoped>\n",
       "    .dataframe tbody tr th:only-of-type {\n",
       "        vertical-align: middle;\n",
       "    }\n",
       "\n",
       "    .dataframe tbody tr th {\n",
       "        vertical-align: top;\n",
       "    }\n",
       "\n",
       "    .dataframe thead th {\n",
       "        text-align: right;\n",
       "    }\n",
       "</style>\n",
       "<table border=\"1\" class=\"dataframe\">\n",
       "  <thead>\n",
       "    <tr style=\"text-align: right;\">\n",
       "      <th></th>\n",
       "      <th>created_at</th>\n",
       "      <th>tweet_id</th>\n",
       "      <th>retweet_count</th>\n",
       "      <th>favorite_count</th>\n",
       "      <th>language</th>\n",
       "      <th>publish_type</th>\n",
       "      <th>dog_rating_num</th>\n",
       "      <th>dog_rating_denom</th>\n",
       "    </tr>\n",
       "  </thead>\n",
       "  <tbody>\n",
       "    <tr>\n",
       "      <th>0</th>\n",
       "      <td>2017-08-01 16:23:56+00:00</td>\n",
       "      <td>892420643555336193</td>\n",
       "      <td>7293</td>\n",
       "      <td>34820</td>\n",
       "      <td>en</td>\n",
       "      <td>iPhone</td>\n",
       "      <td>13/</td>\n",
       "      <td>/10</td>\n",
       "    </tr>\n",
       "  </tbody>\n",
       "</table>\n",
       "</div>"
      ],
      "text/plain": [
       "                 created_at            tweet_id  retweet_count  \\\n",
       "0 2017-08-01 16:23:56+00:00  892420643555336193           7293   \n",
       "\n",
       "   favorite_count language publish_type dog_rating_num dog_rating_denom  \n",
       "0           34820       en       iPhone            13/              /10  "
      ]
     },
     "execution_count": 672,
     "metadata": {},
     "output_type": "execute_result"
    }
   ],
   "source": [
    "tweets.head(1)"
   ]
  },
  {
   "cell_type": "markdown",
   "id": "civil-kennedy",
   "metadata": {},
   "source": [
    "2. ##### Change data types for id,tweet_id to object"
   ]
  },
  {
   "cell_type": "code",
   "execution_count": 673,
   "id": "quick-utility",
   "metadata": {},
   "outputs": [],
   "source": [
    "tweets.tweet_id = tweets.tweet_id.astype(object)\n",
    "images.tweet_id = images.tweet_id.astype(object)"
   ]
  },
  {
   "cell_type": "code",
   "execution_count": 674,
   "id": "stupid-opposition",
   "metadata": {},
   "outputs": [
    {
     "data": {
      "text/plain": [
       "0       892420643555336193\n",
       "1       892177421306343426\n",
       "2       891815181378084864\n",
       "3       891689557279858688\n",
       "4       891327558926688256\n",
       "               ...        \n",
       "2325    666049248165822465\n",
       "2326    666044226329800704\n",
       "2327    666033412701032449\n",
       "2328    666029285002620928\n",
       "2329    666020888022790149\n",
       "Name: tweet_id, Length: 2330, dtype: object"
      ]
     },
     "execution_count": 674,
     "metadata": {},
     "output_type": "execute_result"
    }
   ],
   "source": [
    "tweets.tweet_id"
   ]
  },
  {
   "cell_type": "code",
   "execution_count": 675,
   "id": "adjustable-cancer",
   "metadata": {},
   "outputs": [
    {
     "data": {
      "text/plain": [
       "0       666020888022790149\n",
       "1       666029285002620928\n",
       "2       666033412701032449\n",
       "3       666044226329800704\n",
       "4       666049248165822465\n",
       "               ...        \n",
       "2070    891327558926688256\n",
       "2071    891689557279858688\n",
       "2072    891815181378084864\n",
       "2073    892177421306343426\n",
       "2074    892420643555336193\n",
       "Name: tweet_id, Length: 2075, dtype: object"
      ]
     },
     "execution_count": 675,
     "metadata": {},
     "output_type": "execute_result"
    }
   ],
   "source": [
    "images.tweet_id"
   ]
  },
  {
   "cell_type": "markdown",
   "id": "competitive-spirit",
   "metadata": {},
   "source": [
    "##### Merge two files"
   ]
  },
  {
   "cell_type": "code",
   "execution_count": 676,
   "id": "dutch-institution",
   "metadata": {},
   "outputs": [],
   "source": [
    "main = pd.merge(tweets,images,on = ['tweet_id'],how='left')"
   ]
  },
  {
   "cell_type": "code",
   "execution_count": 677,
   "id": "legal-slovenia",
   "metadata": {},
   "outputs": [
    {
     "name": "stdout",
     "output_type": "stream",
     "text": [
      "<class 'pandas.core.frame.DataFrame'>\n",
      "Int64Index: 2330 entries, 0 to 2329\n",
      "Data columns (total 19 columns):\n",
      " #   Column            Non-Null Count  Dtype              \n",
      "---  ------            --------------  -----              \n",
      " 0   created_at        2330 non-null   datetime64[ns, UTC]\n",
      " 1   tweet_id          2330 non-null   object             \n",
      " 2   retweet_count     2330 non-null   int64              \n",
      " 3   favorite_count    2330 non-null   int64              \n",
      " 4   language          2330 non-null   object             \n",
      " 5   publish_type      2330 non-null   object             \n",
      " 6   dog_rating_num    2330 non-null   object             \n",
      " 7   dog_rating_denom  2330 non-null   object             \n",
      " 8   jpg_url           2058 non-null   object             \n",
      " 9   img_num           2058 non-null   float64            \n",
      " 10  p1                2058 non-null   object             \n",
      " 11  p1_conf           2058 non-null   float64            \n",
      " 12  p1_dog            2058 non-null   object             \n",
      " 13  p2                2058 non-null   object             \n",
      " 14  p2_conf           2058 non-null   float64            \n",
      " 15  p2_dog            2058 non-null   object             \n",
      " 16  p3                2058 non-null   object             \n",
      " 17  p3_conf           2058 non-null   float64            \n",
      " 18  p3_dog            2058 non-null   object             \n",
      "dtypes: datetime64[ns, UTC](1), float64(4), int64(2), object(12)\n",
      "memory usage: 364.1+ KB\n"
     ]
    }
   ],
   "source": [
    "main.info()"
   ]
  },
  {
   "cell_type": "markdown",
   "id": "thirty-simple",
   "metadata": {},
   "source": [
    "9. ##### Dropping / from dog_rating_denom and dog_rating_num"
   ]
  },
  {
   "cell_type": "code",
   "execution_count": 678,
   "id": "supported-particle",
   "metadata": {},
   "outputs": [],
   "source": [
    "# function to get rid of /\n",
    "def clean_rating(column):\n",
    "    main[column] = main[column].str.replace(r'\\D','',regex=True)"
   ]
  },
  {
   "cell_type": "code",
   "execution_count": 679,
   "id": "nuclear-patent",
   "metadata": {},
   "outputs": [],
   "source": [
    "#clean numerator\n",
    "clean_rating('dog_rating_num')\n",
    "\n",
    "#clean denominator\n",
    "clean_rating('dog_rating_denom')"
   ]
  },
  {
   "cell_type": "code",
   "execution_count": 680,
   "id": "warming-domestic",
   "metadata": {},
   "outputs": [
    {
     "data": {
      "text/html": [
       "<div>\n",
       "<style scoped>\n",
       "    .dataframe tbody tr th:only-of-type {\n",
       "        vertical-align: middle;\n",
       "    }\n",
       "\n",
       "    .dataframe tbody tr th {\n",
       "        vertical-align: top;\n",
       "    }\n",
       "\n",
       "    .dataframe thead th {\n",
       "        text-align: right;\n",
       "    }\n",
       "</style>\n",
       "<table border=\"1\" class=\"dataframe\">\n",
       "  <thead>\n",
       "    <tr style=\"text-align: right;\">\n",
       "      <th></th>\n",
       "      <th>created_at</th>\n",
       "      <th>tweet_id</th>\n",
       "      <th>retweet_count</th>\n",
       "      <th>favorite_count</th>\n",
       "      <th>language</th>\n",
       "      <th>publish_type</th>\n",
       "      <th>dog_rating_num</th>\n",
       "      <th>dog_rating_denom</th>\n",
       "      <th>jpg_url</th>\n",
       "      <th>img_num</th>\n",
       "      <th>p1</th>\n",
       "      <th>p1_conf</th>\n",
       "      <th>p1_dog</th>\n",
       "      <th>p2</th>\n",
       "      <th>p2_conf</th>\n",
       "      <th>p2_dog</th>\n",
       "      <th>p3</th>\n",
       "      <th>p3_conf</th>\n",
       "      <th>p3_dog</th>\n",
       "    </tr>\n",
       "  </thead>\n",
       "  <tbody>\n",
       "    <tr>\n",
       "      <th>0</th>\n",
       "      <td>2017-08-01 16:23:56+00:00</td>\n",
       "      <td>892420643555336193</td>\n",
       "      <td>7293</td>\n",
       "      <td>34820</td>\n",
       "      <td>en</td>\n",
       "      <td>iPhone</td>\n",
       "      <td>13</td>\n",
       "      <td>10</td>\n",
       "      <td>https://pbs.twimg.com/media/DGKD1-bXoAAIAUK.jpg</td>\n",
       "      <td>1.0</td>\n",
       "      <td>orange</td>\n",
       "      <td>0.097049</td>\n",
       "      <td>False</td>\n",
       "      <td>bagel</td>\n",
       "      <td>0.085851</td>\n",
       "      <td>False</td>\n",
       "      <td>banana</td>\n",
       "      <td>0.07611</td>\n",
       "      <td>False</td>\n",
       "    </tr>\n",
       "  </tbody>\n",
       "</table>\n",
       "</div>"
      ],
      "text/plain": [
       "                 created_at            tweet_id  retweet_count  \\\n",
       "0 2017-08-01 16:23:56+00:00  892420643555336193           7293   \n",
       "\n",
       "   favorite_count language publish_type dog_rating_num dog_rating_denom  \\\n",
       "0           34820       en       iPhone             13               10   \n",
       "\n",
       "                                           jpg_url  img_num      p1   p1_conf  \\\n",
       "0  https://pbs.twimg.com/media/DGKD1-bXoAAIAUK.jpg      1.0  orange  0.097049   \n",
       "\n",
       "  p1_dog     p2   p2_conf p2_dog      p3  p3_conf p3_dog  \n",
       "0  False  bagel  0.085851  False  banana  0.07611  False  "
      ]
     },
     "execution_count": 680,
     "metadata": {},
     "output_type": "execute_result"
    }
   ],
   "source": [
    "main.head(1)"
   ]
  },
  {
   "cell_type": "markdown",
   "id": "figured-peeing",
   "metadata": {},
   "source": [
    "10. ##### Rounding float values given in the numerator to closest integer and correcting ratings after inspection"
   ]
  },
  {
   "cell_type": "code",
   "execution_count": 681,
   "id": "twelve-familiar",
   "metadata": {},
   "outputs": [],
   "source": [
    "#function for all 3 changes\n",
    "def value_change(row,column,new_value):\n",
    "    main.at[row,column] = new_value"
   ]
  },
  {
   "cell_type": "code",
   "execution_count": 682,
   "id": "approved-museum",
   "metadata": {},
   "outputs": [],
   "source": [
    "#change values in cells\n",
    "value_change(44,'dog_rating_num',14)\n",
    "value_change(327,'dog_rating_num',10)\n",
    "value_change(744,'dog_rating_num',11)"
   ]
  },
  {
   "cell_type": "code",
   "execution_count": 683,
   "id": "filled-bosnia",
   "metadata": {},
   "outputs": [
    {
     "data": {
      "text/plain": [
       "created_at                                2017-07-08 00:28:19+00:00\n",
       "tweet_id                                         883482846933004288\n",
       "retweet_count                                                  8576\n",
       "favorite_count                                                41430\n",
       "language                                                         en\n",
       "publish_type                                                 iPhone\n",
       "dog_rating_num                                                   14\n",
       "dog_rating_denom                                                 10\n",
       "jpg_url             https://pbs.twimg.com/media/DELC9dZXUAADqUk.jpg\n",
       "img_num                                                         1.0\n",
       "p1                                                 golden_retriever\n",
       "p1_conf                                                    0.943082\n",
       "p1_dog                                                         True\n",
       "p2                                               Labrador_retriever\n",
       "p2_conf                                                    0.032409\n",
       "p2_dog                                                         True\n",
       "p3                                                           kuvasz\n",
       "p3_conf                                                    0.005501\n",
       "p3_dog                                                         True\n",
       "Name: 44, dtype: object"
      ]
     },
     "execution_count": 683,
     "metadata": {},
     "output_type": "execute_result"
    }
   ],
   "source": [
    "main.iloc[44]"
   ]
  },
  {
   "cell_type": "markdown",
   "id": "ignored-future",
   "metadata": {},
   "source": [
    "10. ##### Change row 300 which had completely wrong rating 13/10"
   ]
  },
  {
   "cell_type": "code",
   "execution_count": 684,
   "id": "quantitative-mounting",
   "metadata": {},
   "outputs": [],
   "source": [
    "value_change(299,'dog_rating_num',13)\n",
    "value_change(299,'dog_rating_denom',10)"
   ]
  },
  {
   "cell_type": "code",
   "execution_count": 685,
   "id": "polyphonic-behavior",
   "metadata": {},
   "outputs": [
    {
     "data": {
      "text/plain": [
       "created_at          2017-02-24 21:54:03+00:00\n",
       "tweet_id                   835246439529840640\n",
       "retweet_count                              68\n",
       "favorite_count                           2033\n",
       "language                                   en\n",
       "publish_type                           iPhone\n",
       "dog_rating_num                             13\n",
       "dog_rating_denom                           10\n",
       "jpg_url                                   NaN\n",
       "img_num                                   NaN\n",
       "p1                                        NaN\n",
       "p1_conf                                   NaN\n",
       "p1_dog                                    NaN\n",
       "p2                                        NaN\n",
       "p2_conf                                   NaN\n",
       "p2_dog                                    NaN\n",
       "p3                                        NaN\n",
       "p3_conf                                   NaN\n",
       "p3_dog                                    NaN\n",
       "Name: 299, dtype: object"
      ]
     },
     "execution_count": 685,
     "metadata": {},
     "output_type": "execute_result"
    }
   ],
   "source": [
    "main.iloc[299]"
   ]
  },
  {
   "cell_type": "markdown",
   "id": "competent-major",
   "metadata": {},
   "source": [
    "3. ##### Change dog_rating_num and dog_rating_denom to integer"
   ]
  },
  {
   "cell_type": "code",
   "execution_count": 686,
   "id": "still-preserve",
   "metadata": {},
   "outputs": [],
   "source": [
    "main.dog_rating_num = main.dog_rating_num.astype(int)\n",
    "main.dog_rating_denom = main.dog_rating_denom.astype(int)"
   ]
  },
  {
   "cell_type": "code",
   "execution_count": 687,
   "id": "working-finland",
   "metadata": {},
   "outputs": [
    {
     "name": "stdout",
     "output_type": "stream",
     "text": [
      "<class 'pandas.core.frame.DataFrame'>\n",
      "Int64Index: 2330 entries, 0 to 2329\n",
      "Data columns (total 19 columns):\n",
      " #   Column            Non-Null Count  Dtype              \n",
      "---  ------            --------------  -----              \n",
      " 0   created_at        2330 non-null   datetime64[ns, UTC]\n",
      " 1   tweet_id          2330 non-null   object             \n",
      " 2   retweet_count     2330 non-null   int64              \n",
      " 3   favorite_count    2330 non-null   int64              \n",
      " 4   language          2330 non-null   object             \n",
      " 5   publish_type      2330 non-null   object             \n",
      " 6   dog_rating_num    2330 non-null   int64              \n",
      " 7   dog_rating_denom  2330 non-null   int64              \n",
      " 8   jpg_url           2058 non-null   object             \n",
      " 9   img_num           2058 non-null   float64            \n",
      " 10  p1                2058 non-null   object             \n",
      " 11  p1_conf           2058 non-null   float64            \n",
      " 12  p1_dog            2058 non-null   object             \n",
      " 13  p2                2058 non-null   object             \n",
      " 14  p2_conf           2058 non-null   float64            \n",
      " 15  p2_dog            2058 non-null   object             \n",
      " 16  p3                2058 non-null   object             \n",
      " 17  p3_conf           2058 non-null   float64            \n",
      " 18  p3_dog            2058 non-null   object             \n",
      "dtypes: datetime64[ns, UTC](1), float64(4), int64(4), object(10)\n",
      "memory usage: 428.6+ KB\n"
     ]
    }
   ],
   "source": [
    "main.info()"
   ]
  },
  {
   "cell_type": "markdown",
   "id": "hollywood-weekly",
   "metadata": {},
   "source": [
    "4. ##### Adding column with calculated dog score"
   ]
  },
  {
   "cell_type": "code",
   "execution_count": 688,
   "id": "abroad-credit",
   "metadata": {},
   "outputs": [],
   "source": [
    "main['dog_score'] = main['dog_rating_num']/main['dog_rating_denom']"
   ]
  },
  {
   "cell_type": "code",
   "execution_count": 689,
   "id": "economic-executive",
   "metadata": {},
   "outputs": [
    {
     "data": {
      "text/html": [
       "<div>\n",
       "<style scoped>\n",
       "    .dataframe tbody tr th:only-of-type {\n",
       "        vertical-align: middle;\n",
       "    }\n",
       "\n",
       "    .dataframe tbody tr th {\n",
       "        vertical-align: top;\n",
       "    }\n",
       "\n",
       "    .dataframe thead th {\n",
       "        text-align: right;\n",
       "    }\n",
       "</style>\n",
       "<table border=\"1\" class=\"dataframe\">\n",
       "  <thead>\n",
       "    <tr style=\"text-align: right;\">\n",
       "      <th></th>\n",
       "      <th>created_at</th>\n",
       "      <th>tweet_id</th>\n",
       "      <th>retweet_count</th>\n",
       "      <th>favorite_count</th>\n",
       "      <th>language</th>\n",
       "      <th>publish_type</th>\n",
       "      <th>dog_rating_num</th>\n",
       "      <th>dog_rating_denom</th>\n",
       "      <th>jpg_url</th>\n",
       "      <th>img_num</th>\n",
       "      <th>p1</th>\n",
       "      <th>p1_conf</th>\n",
       "      <th>p1_dog</th>\n",
       "      <th>p2</th>\n",
       "      <th>p2_conf</th>\n",
       "      <th>p2_dog</th>\n",
       "      <th>p3</th>\n",
       "      <th>p3_conf</th>\n",
       "      <th>p3_dog</th>\n",
       "      <th>dog_score</th>\n",
       "    </tr>\n",
       "  </thead>\n",
       "  <tbody>\n",
       "    <tr>\n",
       "      <th>0</th>\n",
       "      <td>2017-08-01 16:23:56+00:00</td>\n",
       "      <td>892420643555336193</td>\n",
       "      <td>7293</td>\n",
       "      <td>34820</td>\n",
       "      <td>en</td>\n",
       "      <td>iPhone</td>\n",
       "      <td>13</td>\n",
       "      <td>10</td>\n",
       "      <td>https://pbs.twimg.com/media/DGKD1-bXoAAIAUK.jpg</td>\n",
       "      <td>1.0</td>\n",
       "      <td>orange</td>\n",
       "      <td>0.097049</td>\n",
       "      <td>False</td>\n",
       "      <td>bagel</td>\n",
       "      <td>0.085851</td>\n",
       "      <td>False</td>\n",
       "      <td>banana</td>\n",
       "      <td>0.076110</td>\n",
       "      <td>False</td>\n",
       "      <td>1.3</td>\n",
       "    </tr>\n",
       "    <tr>\n",
       "      <th>1</th>\n",
       "      <td>2017-08-01 00:17:27+00:00</td>\n",
       "      <td>892177421306343426</td>\n",
       "      <td>5452</td>\n",
       "      <td>30157</td>\n",
       "      <td>en</td>\n",
       "      <td>iPhone</td>\n",
       "      <td>13</td>\n",
       "      <td>10</td>\n",
       "      <td>https://pbs.twimg.com/media/DGGmoV4XsAAUL6n.jpg</td>\n",
       "      <td>1.0</td>\n",
       "      <td>Chihuahua</td>\n",
       "      <td>0.323581</td>\n",
       "      <td>True</td>\n",
       "      <td>Pekinese</td>\n",
       "      <td>0.090647</td>\n",
       "      <td>True</td>\n",
       "      <td>papillon</td>\n",
       "      <td>0.068957</td>\n",
       "      <td>True</td>\n",
       "      <td>1.3</td>\n",
       "    </tr>\n",
       "    <tr>\n",
       "      <th>2</th>\n",
       "      <td>2017-07-31 00:18:03+00:00</td>\n",
       "      <td>891815181378084864</td>\n",
       "      <td>3592</td>\n",
       "      <td>22696</td>\n",
       "      <td>en</td>\n",
       "      <td>iPhone</td>\n",
       "      <td>12</td>\n",
       "      <td>10</td>\n",
       "      <td>https://pbs.twimg.com/media/DGBdLU1WsAANxJ9.jpg</td>\n",
       "      <td>1.0</td>\n",
       "      <td>Chihuahua</td>\n",
       "      <td>0.716012</td>\n",
       "      <td>True</td>\n",
       "      <td>malamute</td>\n",
       "      <td>0.078253</td>\n",
       "      <td>True</td>\n",
       "      <td>kelpie</td>\n",
       "      <td>0.031379</td>\n",
       "      <td>True</td>\n",
       "      <td>1.2</td>\n",
       "    </tr>\n",
       "    <tr>\n",
       "      <th>3</th>\n",
       "      <td>2017-07-30 15:58:51+00:00</td>\n",
       "      <td>891689557279858688</td>\n",
       "      <td>7486</td>\n",
       "      <td>38078</td>\n",
       "      <td>en</td>\n",
       "      <td>iPhone</td>\n",
       "      <td>13</td>\n",
       "      <td>10</td>\n",
       "      <td>https://pbs.twimg.com/media/DF_q7IAWsAEuuN8.jpg</td>\n",
       "      <td>1.0</td>\n",
       "      <td>paper_towel</td>\n",
       "      <td>0.170278</td>\n",
       "      <td>False</td>\n",
       "      <td>Labrador_retriever</td>\n",
       "      <td>0.168086</td>\n",
       "      <td>True</td>\n",
       "      <td>spatula</td>\n",
       "      <td>0.040836</td>\n",
       "      <td>False</td>\n",
       "      <td>1.3</td>\n",
       "    </tr>\n",
       "    <tr>\n",
       "      <th>4</th>\n",
       "      <td>2017-07-29 16:00:24+00:00</td>\n",
       "      <td>891327558926688256</td>\n",
       "      <td>8046</td>\n",
       "      <td>36369</td>\n",
       "      <td>en</td>\n",
       "      <td>iPhone</td>\n",
       "      <td>12</td>\n",
       "      <td>10</td>\n",
       "      <td>https://pbs.twimg.com/media/DF6hr6BUMAAzZgT.jpg</td>\n",
       "      <td>2.0</td>\n",
       "      <td>basset</td>\n",
       "      <td>0.555712</td>\n",
       "      <td>True</td>\n",
       "      <td>English_springer</td>\n",
       "      <td>0.225770</td>\n",
       "      <td>True</td>\n",
       "      <td>German_short-haired_pointer</td>\n",
       "      <td>0.175219</td>\n",
       "      <td>True</td>\n",
       "      <td>1.2</td>\n",
       "    </tr>\n",
       "  </tbody>\n",
       "</table>\n",
       "</div>"
      ],
      "text/plain": [
       "                 created_at            tweet_id  retweet_count  \\\n",
       "0 2017-08-01 16:23:56+00:00  892420643555336193           7293   \n",
       "1 2017-08-01 00:17:27+00:00  892177421306343426           5452   \n",
       "2 2017-07-31 00:18:03+00:00  891815181378084864           3592   \n",
       "3 2017-07-30 15:58:51+00:00  891689557279858688           7486   \n",
       "4 2017-07-29 16:00:24+00:00  891327558926688256           8046   \n",
       "\n",
       "   favorite_count language publish_type  dog_rating_num  dog_rating_denom  \\\n",
       "0           34820       en       iPhone              13                10   \n",
       "1           30157       en       iPhone              13                10   \n",
       "2           22696       en       iPhone              12                10   \n",
       "3           38078       en       iPhone              13                10   \n",
       "4           36369       en       iPhone              12                10   \n",
       "\n",
       "                                           jpg_url  img_num           p1  \\\n",
       "0  https://pbs.twimg.com/media/DGKD1-bXoAAIAUK.jpg      1.0       orange   \n",
       "1  https://pbs.twimg.com/media/DGGmoV4XsAAUL6n.jpg      1.0    Chihuahua   \n",
       "2  https://pbs.twimg.com/media/DGBdLU1WsAANxJ9.jpg      1.0    Chihuahua   \n",
       "3  https://pbs.twimg.com/media/DF_q7IAWsAEuuN8.jpg      1.0  paper_towel   \n",
       "4  https://pbs.twimg.com/media/DF6hr6BUMAAzZgT.jpg      2.0       basset   \n",
       "\n",
       "    p1_conf p1_dog                  p2   p2_conf p2_dog  \\\n",
       "0  0.097049  False               bagel  0.085851  False   \n",
       "1  0.323581   True            Pekinese  0.090647   True   \n",
       "2  0.716012   True            malamute  0.078253   True   \n",
       "3  0.170278  False  Labrador_retriever  0.168086   True   \n",
       "4  0.555712   True    English_springer  0.225770   True   \n",
       "\n",
       "                            p3   p3_conf p3_dog  dog_score  \n",
       "0                       banana  0.076110  False        1.3  \n",
       "1                     papillon  0.068957   True        1.3  \n",
       "2                       kelpie  0.031379   True        1.2  \n",
       "3                      spatula  0.040836  False        1.3  \n",
       "4  German_short-haired_pointer  0.175219   True        1.2  "
      ]
     },
     "execution_count": 689,
     "metadata": {},
     "output_type": "execute_result"
    }
   ],
   "source": [
    "main.head()"
   ]
  },
  {
   "cell_type": "markdown",
   "id": "right-abraham",
   "metadata": {},
   "source": [
    "5. ##### Change date format to yyy-mm-dd in tweets"
   ]
  },
  {
   "cell_type": "code",
   "execution_count": 690,
   "id": "acoustic-privilege",
   "metadata": {},
   "outputs": [],
   "source": [
    "main[\"created_at\"] = pd.to_datetime(main[\"created_at\"]).dt.strftime('%Y-%m-%d')"
   ]
  },
  {
   "cell_type": "code",
   "execution_count": 691,
   "id": "substantial-vitamin",
   "metadata": {},
   "outputs": [],
   "source": [
    "main.created_at = main.created_at.astype('datetime64')"
   ]
  },
  {
   "cell_type": "code",
   "execution_count": 692,
   "id": "growing-kingdom",
   "metadata": {},
   "outputs": [
    {
     "data": {
      "text/html": [
       "<div>\n",
       "<style scoped>\n",
       "    .dataframe tbody tr th:only-of-type {\n",
       "        vertical-align: middle;\n",
       "    }\n",
       "\n",
       "    .dataframe tbody tr th {\n",
       "        vertical-align: top;\n",
       "    }\n",
       "\n",
       "    .dataframe thead th {\n",
       "        text-align: right;\n",
       "    }\n",
       "</style>\n",
       "<table border=\"1\" class=\"dataframe\">\n",
       "  <thead>\n",
       "    <tr style=\"text-align: right;\">\n",
       "      <th></th>\n",
       "      <th>created_at</th>\n",
       "      <th>tweet_id</th>\n",
       "      <th>retweet_count</th>\n",
       "      <th>favorite_count</th>\n",
       "      <th>language</th>\n",
       "      <th>publish_type</th>\n",
       "      <th>dog_rating_num</th>\n",
       "      <th>dog_rating_denom</th>\n",
       "      <th>jpg_url</th>\n",
       "      <th>img_num</th>\n",
       "      <th>p1</th>\n",
       "      <th>p1_conf</th>\n",
       "      <th>p1_dog</th>\n",
       "      <th>p2</th>\n",
       "      <th>p2_conf</th>\n",
       "      <th>p2_dog</th>\n",
       "      <th>p3</th>\n",
       "      <th>p3_conf</th>\n",
       "      <th>p3_dog</th>\n",
       "      <th>dog_score</th>\n",
       "    </tr>\n",
       "  </thead>\n",
       "  <tbody>\n",
       "    <tr>\n",
       "      <th>0</th>\n",
       "      <td>2017-08-01</td>\n",
       "      <td>892420643555336193</td>\n",
       "      <td>7293</td>\n",
       "      <td>34820</td>\n",
       "      <td>en</td>\n",
       "      <td>iPhone</td>\n",
       "      <td>13</td>\n",
       "      <td>10</td>\n",
       "      <td>https://pbs.twimg.com/media/DGKD1-bXoAAIAUK.jpg</td>\n",
       "      <td>1.0</td>\n",
       "      <td>orange</td>\n",
       "      <td>0.097049</td>\n",
       "      <td>False</td>\n",
       "      <td>bagel</td>\n",
       "      <td>0.085851</td>\n",
       "      <td>False</td>\n",
       "      <td>banana</td>\n",
       "      <td>0.076110</td>\n",
       "      <td>False</td>\n",
       "      <td>1.3</td>\n",
       "    </tr>\n",
       "    <tr>\n",
       "      <th>1</th>\n",
       "      <td>2017-08-01</td>\n",
       "      <td>892177421306343426</td>\n",
       "      <td>5452</td>\n",
       "      <td>30157</td>\n",
       "      <td>en</td>\n",
       "      <td>iPhone</td>\n",
       "      <td>13</td>\n",
       "      <td>10</td>\n",
       "      <td>https://pbs.twimg.com/media/DGGmoV4XsAAUL6n.jpg</td>\n",
       "      <td>1.0</td>\n",
       "      <td>Chihuahua</td>\n",
       "      <td>0.323581</td>\n",
       "      <td>True</td>\n",
       "      <td>Pekinese</td>\n",
       "      <td>0.090647</td>\n",
       "      <td>True</td>\n",
       "      <td>papillon</td>\n",
       "      <td>0.068957</td>\n",
       "      <td>True</td>\n",
       "      <td>1.3</td>\n",
       "    </tr>\n",
       "    <tr>\n",
       "      <th>2</th>\n",
       "      <td>2017-07-31</td>\n",
       "      <td>891815181378084864</td>\n",
       "      <td>3592</td>\n",
       "      <td>22696</td>\n",
       "      <td>en</td>\n",
       "      <td>iPhone</td>\n",
       "      <td>12</td>\n",
       "      <td>10</td>\n",
       "      <td>https://pbs.twimg.com/media/DGBdLU1WsAANxJ9.jpg</td>\n",
       "      <td>1.0</td>\n",
       "      <td>Chihuahua</td>\n",
       "      <td>0.716012</td>\n",
       "      <td>True</td>\n",
       "      <td>malamute</td>\n",
       "      <td>0.078253</td>\n",
       "      <td>True</td>\n",
       "      <td>kelpie</td>\n",
       "      <td>0.031379</td>\n",
       "      <td>True</td>\n",
       "      <td>1.2</td>\n",
       "    </tr>\n",
       "  </tbody>\n",
       "</table>\n",
       "</div>"
      ],
      "text/plain": [
       "  created_at            tweet_id  retweet_count  favorite_count language  \\\n",
       "0 2017-08-01  892420643555336193           7293           34820       en   \n",
       "1 2017-08-01  892177421306343426           5452           30157       en   \n",
       "2 2017-07-31  891815181378084864           3592           22696       en   \n",
       "\n",
       "  publish_type  dog_rating_num  dog_rating_denom  \\\n",
       "0       iPhone              13                10   \n",
       "1       iPhone              13                10   \n",
       "2       iPhone              12                10   \n",
       "\n",
       "                                           jpg_url  img_num         p1  \\\n",
       "0  https://pbs.twimg.com/media/DGKD1-bXoAAIAUK.jpg      1.0     orange   \n",
       "1  https://pbs.twimg.com/media/DGGmoV4XsAAUL6n.jpg      1.0  Chihuahua   \n",
       "2  https://pbs.twimg.com/media/DGBdLU1WsAANxJ9.jpg      1.0  Chihuahua   \n",
       "\n",
       "    p1_conf p1_dog        p2   p2_conf p2_dog        p3   p3_conf p3_dog  \\\n",
       "0  0.097049  False     bagel  0.085851  False    banana  0.076110  False   \n",
       "1  0.323581   True  Pekinese  0.090647   True  papillon  0.068957   True   \n",
       "2  0.716012   True  malamute  0.078253   True    kelpie  0.031379   True   \n",
       "\n",
       "   dog_score  \n",
       "0        1.3  \n",
       "1        1.3  \n",
       "2        1.2  "
      ]
     },
     "execution_count": 692,
     "metadata": {},
     "output_type": "execute_result"
    }
   ],
   "source": [
    "main.head(3)"
   ]
  },
  {
   "cell_type": "markdown",
   "id": "pharmaceutical-dating",
   "metadata": {},
   "source": [
    "6. ##### Change languages from abbreviation to full name"
   ]
  },
  {
   "cell_type": "code",
   "execution_count": 693,
   "id": "prompt-detroit",
   "metadata": {},
   "outputs": [
    {
     "data": {
      "text/plain": [
       "language\n",
       "en     2312\n",
       "es        1\n",
       "et        1\n",
       "eu        1\n",
       "in        3\n",
       "nl        3\n",
       "ro        1\n",
       "tl        1\n",
       "und       7\n",
       "Name: retweet_count, dtype: int64"
      ]
     },
     "execution_count": 693,
     "metadata": {},
     "output_type": "execute_result"
    }
   ],
   "source": [
    "main.groupby('language').retweet_count.count()"
   ]
  },
  {
   "cell_type": "markdown",
   "id": "false-fellow",
   "metadata": {},
   "source": [
    "en = English\n",
    "es = Spanish\n",
    "et = Estonian\n",
    "eu = Basque\n",
    "in = Arabic\n",
    "nl = Ducth\n",
    "ro = Romanian\n",
    "tl = Tagalog\n",
    "und = Undetermined"
   ]
  },
  {
   "cell_type": "code",
   "execution_count": 694,
   "id": "searching-tracker",
   "metadata": {},
   "outputs": [],
   "source": [
    "languages = ['language']\n",
    "old = ['en','es','et','eu','in','nl','ro','tl','und']\n",
    "new = ['English','Spanish','Estonian','Basque','Arabic','Ducth','Romanian','Tagalog','Undetermined']\n",
    "for x in languages: \n",
    "    main[x]=main[x].replace(old,new)"
   ]
  },
  {
   "cell_type": "code",
   "execution_count": 695,
   "id": "pressed-tutorial",
   "metadata": {},
   "outputs": [
    {
     "data": {
      "text/plain": [
       "'English'"
      ]
     },
     "execution_count": 695,
     "metadata": {},
     "output_type": "execute_result"
    }
   ],
   "source": [
    "main.iloc[1].language"
   ]
  },
  {
   "cell_type": "markdown",
   "id": "maritime-oakland",
   "metadata": {},
   "source": [
    "7. ##### Dropping not dogs from data frame"
   ]
  },
  {
   "cell_type": "markdown",
   "id": "beneficial-proceeding",
   "metadata": {},
   "source": [
    "I will drop rows with data that all 3 image recognitions are False. This comes with risk that some of pictures truly contain dogs. Nevertheless, I random sampled 10 pictures and 8 happened to be not dogs.\n",
    "This expose great limition of the research."
   ]
  },
  {
   "cell_type": "code",
   "execution_count": 696,
   "id": "healthy-niagara",
   "metadata": {},
   "outputs": [
    {
     "data": {
      "text/plain": [
       "905     https://pbs.twimg.com/media/CnlmeL3WgAA4c84.jpg\n",
       "2284    https://pbs.twimg.com/media/CUDmZIkWcAAIPPe.jpg\n",
       "1318    https://pbs.twimg.com/media/CcgF5ovW8AACrEU.jpg\n",
       "2250    https://pbs.twimg.com/media/CUM8QZwW4AAVsBl.jpg\n",
       "562     https://pbs.twimg.com/media/CxvNfrhWQAA2hKM.jpg\n",
       "1642    https://pbs.twimg.com/media/CXltdtaWYAIuX_V.jpg\n",
       "2071    https://pbs.twimg.com/media/CU7seitWwAArlVy.jpg\n",
       "1559    https://pbs.twimg.com/media/CYkURJjW8AEamoI.jpg\n",
       "1493    https://pbs.twimg.com/media/CZa1QnSWEAAEOVr.jpg\n",
       "1480    https://pbs.twimg.com/media/CZnW7JGW0AA83mn.jpg\n",
       "Name: jpg_url, dtype: object"
      ]
     },
     "execution_count": 696,
     "metadata": {},
     "output_type": "execute_result"
    }
   ],
   "source": [
    "testing = main.query('p1_dog == False & p2_dog == False & p3_dog == False').jpg_url.sample(10)\n",
    "testing"
   ]
  },
  {
   "cell_type": "markdown",
   "id": "exposed-friday",
   "metadata": {},
   "source": [
    "##### Dataframe changed to only include dogs."
   ]
  },
  {
   "cell_type": "code",
   "execution_count": 697,
   "id": "vanilla-trial",
   "metadata": {},
   "outputs": [
    {
     "data": {
      "text/html": [
       "<div>\n",
       "<style scoped>\n",
       "    .dataframe tbody tr th:only-of-type {\n",
       "        vertical-align: middle;\n",
       "    }\n",
       "\n",
       "    .dataframe tbody tr th {\n",
       "        vertical-align: top;\n",
       "    }\n",
       "\n",
       "    .dataframe thead th {\n",
       "        text-align: right;\n",
       "    }\n",
       "</style>\n",
       "<table border=\"1\" class=\"dataframe\">\n",
       "  <thead>\n",
       "    <tr style=\"text-align: right;\">\n",
       "      <th></th>\n",
       "      <th>created_at</th>\n",
       "      <th>tweet_id</th>\n",
       "      <th>retweet_count</th>\n",
       "      <th>favorite_count</th>\n",
       "      <th>language</th>\n",
       "      <th>publish_type</th>\n",
       "      <th>dog_rating_num</th>\n",
       "      <th>dog_rating_denom</th>\n",
       "      <th>jpg_url</th>\n",
       "      <th>img_num</th>\n",
       "      <th>p1</th>\n",
       "      <th>p1_conf</th>\n",
       "      <th>p1_dog</th>\n",
       "      <th>p2</th>\n",
       "      <th>p2_conf</th>\n",
       "      <th>p2_dog</th>\n",
       "      <th>p3</th>\n",
       "      <th>p3_conf</th>\n",
       "      <th>p3_dog</th>\n",
       "      <th>dog_score</th>\n",
       "    </tr>\n",
       "  </thead>\n",
       "  <tbody>\n",
       "    <tr>\n",
       "      <th>1</th>\n",
       "      <td>2017-08-01</td>\n",
       "      <td>892177421306343426</td>\n",
       "      <td>5452</td>\n",
       "      <td>30157</td>\n",
       "      <td>English</td>\n",
       "      <td>iPhone</td>\n",
       "      <td>13</td>\n",
       "      <td>10</td>\n",
       "      <td>https://pbs.twimg.com/media/DGGmoV4XsAAUL6n.jpg</td>\n",
       "      <td>1.0</td>\n",
       "      <td>Chihuahua</td>\n",
       "      <td>0.323581</td>\n",
       "      <td>True</td>\n",
       "      <td>Pekinese</td>\n",
       "      <td>0.090647</td>\n",
       "      <td>True</td>\n",
       "      <td>papillon</td>\n",
       "      <td>0.068957</td>\n",
       "      <td>True</td>\n",
       "      <td>1.3</td>\n",
       "    </tr>\n",
       "    <tr>\n",
       "      <th>2</th>\n",
       "      <td>2017-07-31</td>\n",
       "      <td>891815181378084864</td>\n",
       "      <td>3592</td>\n",
       "      <td>22696</td>\n",
       "      <td>English</td>\n",
       "      <td>iPhone</td>\n",
       "      <td>12</td>\n",
       "      <td>10</td>\n",
       "      <td>https://pbs.twimg.com/media/DGBdLU1WsAANxJ9.jpg</td>\n",
       "      <td>1.0</td>\n",
       "      <td>Chihuahua</td>\n",
       "      <td>0.716012</td>\n",
       "      <td>True</td>\n",
       "      <td>malamute</td>\n",
       "      <td>0.078253</td>\n",
       "      <td>True</td>\n",
       "      <td>kelpie</td>\n",
       "      <td>0.031379</td>\n",
       "      <td>True</td>\n",
       "      <td>1.2</td>\n",
       "    </tr>\n",
       "    <tr>\n",
       "      <th>3</th>\n",
       "      <td>2017-07-30</td>\n",
       "      <td>891689557279858688</td>\n",
       "      <td>7486</td>\n",
       "      <td>38078</td>\n",
       "      <td>English</td>\n",
       "      <td>iPhone</td>\n",
       "      <td>13</td>\n",
       "      <td>10</td>\n",
       "      <td>https://pbs.twimg.com/media/DF_q7IAWsAEuuN8.jpg</td>\n",
       "      <td>1.0</td>\n",
       "      <td>paper_towel</td>\n",
       "      <td>0.170278</td>\n",
       "      <td>False</td>\n",
       "      <td>Labrador_retriever</td>\n",
       "      <td>0.168086</td>\n",
       "      <td>True</td>\n",
       "      <td>spatula</td>\n",
       "      <td>0.040836</td>\n",
       "      <td>False</td>\n",
       "      <td>1.3</td>\n",
       "    </tr>\n",
       "    <tr>\n",
       "      <th>4</th>\n",
       "      <td>2017-07-29</td>\n",
       "      <td>891327558926688256</td>\n",
       "      <td>8046</td>\n",
       "      <td>36369</td>\n",
       "      <td>English</td>\n",
       "      <td>iPhone</td>\n",
       "      <td>12</td>\n",
       "      <td>10</td>\n",
       "      <td>https://pbs.twimg.com/media/DF6hr6BUMAAzZgT.jpg</td>\n",
       "      <td>2.0</td>\n",
       "      <td>basset</td>\n",
       "      <td>0.555712</td>\n",
       "      <td>True</td>\n",
       "      <td>English_springer</td>\n",
       "      <td>0.225770</td>\n",
       "      <td>True</td>\n",
       "      <td>German_short-haired_pointer</td>\n",
       "      <td>0.175219</td>\n",
       "      <td>True</td>\n",
       "      <td>1.2</td>\n",
       "    </tr>\n",
       "    <tr>\n",
       "      <th>5</th>\n",
       "      <td>2017-07-29</td>\n",
       "      <td>891087950875897856</td>\n",
       "      <td>2698</td>\n",
       "      <td>18340</td>\n",
       "      <td>English</td>\n",
       "      <td>iPhone</td>\n",
       "      <td>13</td>\n",
       "      <td>10</td>\n",
       "      <td>https://pbs.twimg.com/media/DF3HwyEWsAABqE6.jpg</td>\n",
       "      <td>1.0</td>\n",
       "      <td>Chesapeake_Bay_retriever</td>\n",
       "      <td>0.425595</td>\n",
       "      <td>True</td>\n",
       "      <td>Irish_terrier</td>\n",
       "      <td>0.116317</td>\n",
       "      <td>True</td>\n",
       "      <td>Indian_elephant</td>\n",
       "      <td>0.076902</td>\n",
       "      <td>False</td>\n",
       "      <td>1.3</td>\n",
       "    </tr>\n",
       "  </tbody>\n",
       "</table>\n",
       "</div>"
      ],
      "text/plain": [
       "  created_at            tweet_id  retweet_count  favorite_count language  \\\n",
       "1 2017-08-01  892177421306343426           5452           30157  English   \n",
       "2 2017-07-31  891815181378084864           3592           22696  English   \n",
       "3 2017-07-30  891689557279858688           7486           38078  English   \n",
       "4 2017-07-29  891327558926688256           8046           36369  English   \n",
       "5 2017-07-29  891087950875897856           2698           18340  English   \n",
       "\n",
       "  publish_type  dog_rating_num  dog_rating_denom  \\\n",
       "1       iPhone              13                10   \n",
       "2       iPhone              12                10   \n",
       "3       iPhone              13                10   \n",
       "4       iPhone              12                10   \n",
       "5       iPhone              13                10   \n",
       "\n",
       "                                           jpg_url  img_num  \\\n",
       "1  https://pbs.twimg.com/media/DGGmoV4XsAAUL6n.jpg      1.0   \n",
       "2  https://pbs.twimg.com/media/DGBdLU1WsAANxJ9.jpg      1.0   \n",
       "3  https://pbs.twimg.com/media/DF_q7IAWsAEuuN8.jpg      1.0   \n",
       "4  https://pbs.twimg.com/media/DF6hr6BUMAAzZgT.jpg      2.0   \n",
       "5  https://pbs.twimg.com/media/DF3HwyEWsAABqE6.jpg      1.0   \n",
       "\n",
       "                         p1   p1_conf p1_dog                  p2   p2_conf  \\\n",
       "1                 Chihuahua  0.323581   True            Pekinese  0.090647   \n",
       "2                 Chihuahua  0.716012   True            malamute  0.078253   \n",
       "3               paper_towel  0.170278  False  Labrador_retriever  0.168086   \n",
       "4                    basset  0.555712   True    English_springer  0.225770   \n",
       "5  Chesapeake_Bay_retriever  0.425595   True       Irish_terrier  0.116317   \n",
       "\n",
       "  p2_dog                           p3   p3_conf p3_dog  dog_score  \n",
       "1   True                     papillon  0.068957   True        1.3  \n",
       "2   True                       kelpie  0.031379   True        1.2  \n",
       "3   True                      spatula  0.040836  False        1.3  \n",
       "4   True  German_short-haired_pointer  0.175219   True        1.2  \n",
       "5   True              Indian_elephant  0.076902  False        1.3  "
      ]
     },
     "execution_count": 697,
     "metadata": {},
     "output_type": "execute_result"
    }
   ],
   "source": [
    "main = main.query('p1_dog == True or p2_dog == True or p3_dog == True')\n",
    "main.head()"
   ]
  },
  {
   "cell_type": "markdown",
   "id": "generic-credits",
   "metadata": {},
   "source": [
    "8. ##### Extract breed in one column"
   ]
  },
  {
   "cell_type": "code",
   "execution_count": 698,
   "id": "driving-priest",
   "metadata": {},
   "outputs": [],
   "source": [
    "# filtering for dog breeds in each column and adding now column with dog breed\n",
    "def get_breed(head1,head2,head3,data1,data2,data3):\n",
    "    main[head1] = main.query(data1).p1\n",
    "    main[head2] = main.query(data2).p2\n",
    "    main[head3] = main.query(data3).p3\n",
    "    main['breed'] = main[head1].fillna('')+ main[head2].fillna('') + main[head3].fillna('')\n",
    "    \n",
    "get_breed('p1_breed','p2_breed','p3_breed',\n",
    "         'p1_dog == True','p1_dog == False & p2_dog == True',\n",
    "         'p1_dog == False & p2_dog == False & p3_dog == True')"
   ]
  },
  {
   "cell_type": "markdown",
   "id": "charitable-subcommittee",
   "metadata": {},
   "source": [
    "##### Dropping remaining no longer needed columns. Please keep in mind this is done purely in mind that my research is not interesting in other data not that it's not valid."
   ]
  },
  {
   "cell_type": "code",
   "execution_count": 699,
   "id": "descending-trader",
   "metadata": {},
   "outputs": [],
   "source": [
    "main.drop(['p1_breed','p2_breed','p3_breed','p1','p2','p3',\n",
    "           'p1_dog','p2_dog','p3_dog','p1_conf','p2_conf','p3_conf',\n",
    "           'img_num','dog_rating_denom','dog_rating_num'],axis=1,inplace=True)"
   ]
  },
  {
   "cell_type": "code",
   "execution_count": 700,
   "id": "fabulous-accuracy",
   "metadata": {},
   "outputs": [
    {
     "data": {
      "text/plain": [
       "0"
      ]
     },
     "execution_count": 700,
     "metadata": {},
     "output_type": "execute_result"
    }
   ],
   "source": [
    "main.breed.isnull().sum()"
   ]
  },
  {
   "cell_type": "code",
   "execution_count": 701,
   "id": "stylish-sociology",
   "metadata": {},
   "outputs": [
    {
     "data": {
      "text/html": [
       "<div>\n",
       "<style scoped>\n",
       "    .dataframe tbody tr th:only-of-type {\n",
       "        vertical-align: middle;\n",
       "    }\n",
       "\n",
       "    .dataframe tbody tr th {\n",
       "        vertical-align: top;\n",
       "    }\n",
       "\n",
       "    .dataframe thead th {\n",
       "        text-align: right;\n",
       "    }\n",
       "</style>\n",
       "<table border=\"1\" class=\"dataframe\">\n",
       "  <thead>\n",
       "    <tr style=\"text-align: right;\">\n",
       "      <th></th>\n",
       "      <th>created_at</th>\n",
       "      <th>tweet_id</th>\n",
       "      <th>retweet_count</th>\n",
       "      <th>favorite_count</th>\n",
       "      <th>language</th>\n",
       "      <th>publish_type</th>\n",
       "      <th>jpg_url</th>\n",
       "      <th>dog_score</th>\n",
       "      <th>breed</th>\n",
       "    </tr>\n",
       "  </thead>\n",
       "  <tbody>\n",
       "    <tr>\n",
       "      <th>1</th>\n",
       "      <td>2017-08-01</td>\n",
       "      <td>892177421306343426</td>\n",
       "      <td>5452</td>\n",
       "      <td>30157</td>\n",
       "      <td>English</td>\n",
       "      <td>iPhone</td>\n",
       "      <td>https://pbs.twimg.com/media/DGGmoV4XsAAUL6n.jpg</td>\n",
       "      <td>1.3</td>\n",
       "      <td>Chihuahua</td>\n",
       "    </tr>\n",
       "    <tr>\n",
       "      <th>2</th>\n",
       "      <td>2017-07-31</td>\n",
       "      <td>891815181378084864</td>\n",
       "      <td>3592</td>\n",
       "      <td>22696</td>\n",
       "      <td>English</td>\n",
       "      <td>iPhone</td>\n",
       "      <td>https://pbs.twimg.com/media/DGBdLU1WsAANxJ9.jpg</td>\n",
       "      <td>1.2</td>\n",
       "      <td>Chihuahua</td>\n",
       "    </tr>\n",
       "    <tr>\n",
       "      <th>3</th>\n",
       "      <td>2017-07-30</td>\n",
       "      <td>891689557279858688</td>\n",
       "      <td>7486</td>\n",
       "      <td>38078</td>\n",
       "      <td>English</td>\n",
       "      <td>iPhone</td>\n",
       "      <td>https://pbs.twimg.com/media/DF_q7IAWsAEuuN8.jpg</td>\n",
       "      <td>1.3</td>\n",
       "      <td>Labrador_retriever</td>\n",
       "    </tr>\n",
       "    <tr>\n",
       "      <th>4</th>\n",
       "      <td>2017-07-29</td>\n",
       "      <td>891327558926688256</td>\n",
       "      <td>8046</td>\n",
       "      <td>36369</td>\n",
       "      <td>English</td>\n",
       "      <td>iPhone</td>\n",
       "      <td>https://pbs.twimg.com/media/DF6hr6BUMAAzZgT.jpg</td>\n",
       "      <td>1.2</td>\n",
       "      <td>basset</td>\n",
       "    </tr>\n",
       "    <tr>\n",
       "      <th>5</th>\n",
       "      <td>2017-07-29</td>\n",
       "      <td>891087950875897856</td>\n",
       "      <td>2698</td>\n",
       "      <td>18340</td>\n",
       "      <td>English</td>\n",
       "      <td>iPhone</td>\n",
       "      <td>https://pbs.twimg.com/media/DF3HwyEWsAABqE6.jpg</td>\n",
       "      <td>1.3</td>\n",
       "      <td>Chesapeake_Bay_retriever</td>\n",
       "    </tr>\n",
       "  </tbody>\n",
       "</table>\n",
       "</div>"
      ],
      "text/plain": [
       "  created_at            tweet_id  retweet_count  favorite_count language  \\\n",
       "1 2017-08-01  892177421306343426           5452           30157  English   \n",
       "2 2017-07-31  891815181378084864           3592           22696  English   \n",
       "3 2017-07-30  891689557279858688           7486           38078  English   \n",
       "4 2017-07-29  891327558926688256           8046           36369  English   \n",
       "5 2017-07-29  891087950875897856           2698           18340  English   \n",
       "\n",
       "  publish_type                                          jpg_url  dog_score  \\\n",
       "1       iPhone  https://pbs.twimg.com/media/DGGmoV4XsAAUL6n.jpg        1.3   \n",
       "2       iPhone  https://pbs.twimg.com/media/DGBdLU1WsAANxJ9.jpg        1.2   \n",
       "3       iPhone  https://pbs.twimg.com/media/DF_q7IAWsAEuuN8.jpg        1.3   \n",
       "4       iPhone  https://pbs.twimg.com/media/DF6hr6BUMAAzZgT.jpg        1.2   \n",
       "5       iPhone  https://pbs.twimg.com/media/DF3HwyEWsAABqE6.jpg        1.3   \n",
       "\n",
       "                      breed  \n",
       "1                 Chihuahua  \n",
       "2                 Chihuahua  \n",
       "3        Labrador_retriever  \n",
       "4                    basset  \n",
       "5  Chesapeake_Bay_retriever  "
      ]
     },
     "execution_count": 701,
     "metadata": {},
     "output_type": "execute_result"
    }
   ],
   "source": [
    "main.head()"
   ]
  },
  {
   "cell_type": "markdown",
   "id": "vulnerable-addition",
   "metadata": {},
   "source": [
    "9. ##### Removing underscore from breed for better visuals"
   ]
  },
  {
   "cell_type": "code",
   "execution_count": 702,
   "id": "young-fisher",
   "metadata": {},
   "outputs": [],
   "source": [
    "main.breed = main.breed.str.replace('_', ' ')"
   ]
  },
  {
   "cell_type": "code",
   "execution_count": 703,
   "id": "elementary-composition",
   "metadata": {},
   "outputs": [
    {
     "data": {
      "text/html": [
       "<div>\n",
       "<style scoped>\n",
       "    .dataframe tbody tr th:only-of-type {\n",
       "        vertical-align: middle;\n",
       "    }\n",
       "\n",
       "    .dataframe tbody tr th {\n",
       "        vertical-align: top;\n",
       "    }\n",
       "\n",
       "    .dataframe thead th {\n",
       "        text-align: right;\n",
       "    }\n",
       "</style>\n",
       "<table border=\"1\" class=\"dataframe\">\n",
       "  <thead>\n",
       "    <tr style=\"text-align: right;\">\n",
       "      <th></th>\n",
       "      <th>created_at</th>\n",
       "      <th>tweet_id</th>\n",
       "      <th>retweet_count</th>\n",
       "      <th>favorite_count</th>\n",
       "      <th>language</th>\n",
       "      <th>publish_type</th>\n",
       "      <th>jpg_url</th>\n",
       "      <th>dog_score</th>\n",
       "      <th>breed</th>\n",
       "    </tr>\n",
       "  </thead>\n",
       "  <tbody>\n",
       "    <tr>\n",
       "      <th>1</th>\n",
       "      <td>2017-08-01</td>\n",
       "      <td>892177421306343426</td>\n",
       "      <td>5452</td>\n",
       "      <td>30157</td>\n",
       "      <td>English</td>\n",
       "      <td>iPhone</td>\n",
       "      <td>https://pbs.twimg.com/media/DGGmoV4XsAAUL6n.jpg</td>\n",
       "      <td>1.3</td>\n",
       "      <td>Chihuahua</td>\n",
       "    </tr>\n",
       "    <tr>\n",
       "      <th>2</th>\n",
       "      <td>2017-07-31</td>\n",
       "      <td>891815181378084864</td>\n",
       "      <td>3592</td>\n",
       "      <td>22696</td>\n",
       "      <td>English</td>\n",
       "      <td>iPhone</td>\n",
       "      <td>https://pbs.twimg.com/media/DGBdLU1WsAANxJ9.jpg</td>\n",
       "      <td>1.2</td>\n",
       "      <td>Chihuahua</td>\n",
       "    </tr>\n",
       "  </tbody>\n",
       "</table>\n",
       "</div>"
      ],
      "text/plain": [
       "  created_at            tweet_id  retweet_count  favorite_count language  \\\n",
       "1 2017-08-01  892177421306343426           5452           30157  English   \n",
       "2 2017-07-31  891815181378084864           3592           22696  English   \n",
       "\n",
       "  publish_type                                          jpg_url  dog_score  \\\n",
       "1       iPhone  https://pbs.twimg.com/media/DGGmoV4XsAAUL6n.jpg        1.3   \n",
       "2       iPhone  https://pbs.twimg.com/media/DGBdLU1WsAANxJ9.jpg        1.2   \n",
       "\n",
       "       breed  \n",
       "1  Chihuahua  \n",
       "2  Chihuahua  "
      ]
     },
     "execution_count": 703,
     "metadata": {},
     "output_type": "execute_result"
    }
   ],
   "source": [
    "main.head(2)"
   ]
  },
  {
   "cell_type": "markdown",
   "id": "warming-upper",
   "metadata": {},
   "source": [
    "10. ##### Making all breeds lowercase for comparability"
   ]
  },
  {
   "cell_type": "code",
   "execution_count": 704,
   "id": "younger-syndrome",
   "metadata": {},
   "outputs": [],
   "source": [
    "main.breed = main.breed.str.lower()"
   ]
  },
  {
   "cell_type": "code",
   "execution_count": 705,
   "id": "liberal-leader",
   "metadata": {},
   "outputs": [
    {
     "data": {
      "text/html": [
       "<div>\n",
       "<style scoped>\n",
       "    .dataframe tbody tr th:only-of-type {\n",
       "        vertical-align: middle;\n",
       "    }\n",
       "\n",
       "    .dataframe tbody tr th {\n",
       "        vertical-align: top;\n",
       "    }\n",
       "\n",
       "    .dataframe thead th {\n",
       "        text-align: right;\n",
       "    }\n",
       "</style>\n",
       "<table border=\"1\" class=\"dataframe\">\n",
       "  <thead>\n",
       "    <tr style=\"text-align: right;\">\n",
       "      <th></th>\n",
       "      <th>created_at</th>\n",
       "      <th>tweet_id</th>\n",
       "      <th>retweet_count</th>\n",
       "      <th>favorite_count</th>\n",
       "      <th>language</th>\n",
       "      <th>publish_type</th>\n",
       "      <th>jpg_url</th>\n",
       "      <th>dog_score</th>\n",
       "      <th>breed</th>\n",
       "    </tr>\n",
       "  </thead>\n",
       "  <tbody>\n",
       "    <tr>\n",
       "      <th>1</th>\n",
       "      <td>2017-08-01</td>\n",
       "      <td>892177421306343426</td>\n",
       "      <td>5452</td>\n",
       "      <td>30157</td>\n",
       "      <td>English</td>\n",
       "      <td>iPhone</td>\n",
       "      <td>https://pbs.twimg.com/media/DGGmoV4XsAAUL6n.jpg</td>\n",
       "      <td>1.3</td>\n",
       "      <td>chihuahua</td>\n",
       "    </tr>\n",
       "    <tr>\n",
       "      <th>2</th>\n",
       "      <td>2017-07-31</td>\n",
       "      <td>891815181378084864</td>\n",
       "      <td>3592</td>\n",
       "      <td>22696</td>\n",
       "      <td>English</td>\n",
       "      <td>iPhone</td>\n",
       "      <td>https://pbs.twimg.com/media/DGBdLU1WsAANxJ9.jpg</td>\n",
       "      <td>1.2</td>\n",
       "      <td>chihuahua</td>\n",
       "    </tr>\n",
       "    <tr>\n",
       "      <th>3</th>\n",
       "      <td>2017-07-30</td>\n",
       "      <td>891689557279858688</td>\n",
       "      <td>7486</td>\n",
       "      <td>38078</td>\n",
       "      <td>English</td>\n",
       "      <td>iPhone</td>\n",
       "      <td>https://pbs.twimg.com/media/DF_q7IAWsAEuuN8.jpg</td>\n",
       "      <td>1.3</td>\n",
       "      <td>labrador retriever</td>\n",
       "    </tr>\n",
       "  </tbody>\n",
       "</table>\n",
       "</div>"
      ],
      "text/plain": [
       "  created_at            tweet_id  retweet_count  favorite_count language  \\\n",
       "1 2017-08-01  892177421306343426           5452           30157  English   \n",
       "2 2017-07-31  891815181378084864           3592           22696  English   \n",
       "3 2017-07-30  891689557279858688           7486           38078  English   \n",
       "\n",
       "  publish_type                                          jpg_url  dog_score  \\\n",
       "1       iPhone  https://pbs.twimg.com/media/DGGmoV4XsAAUL6n.jpg        1.3   \n",
       "2       iPhone  https://pbs.twimg.com/media/DGBdLU1WsAANxJ9.jpg        1.2   \n",
       "3       iPhone  https://pbs.twimg.com/media/DF_q7IAWsAEuuN8.jpg        1.3   \n",
       "\n",
       "                breed  \n",
       "1           chihuahua  \n",
       "2           chihuahua  \n",
       "3  labrador retriever  "
      ]
     },
     "execution_count": 705,
     "metadata": {},
     "output_type": "execute_result"
    }
   ],
   "source": [
    "main.head(3)"
   ]
  },
  {
   "cell_type": "markdown",
   "id": "confused-wallace",
   "metadata": {},
   "source": [
    "### Favorite count has zeros in some rows. This has been noted but rows won't be dropped as it contain other valuable data. In the analysis outliers will be dropped to get rid of zeros."
   ]
  },
  {
   "cell_type": "markdown",
   "id": "successful-drilling",
   "metadata": {},
   "source": [
    "##### Storing cleaned dateset"
   ]
  },
  {
   "cell_type": "code",
   "execution_count": 724,
   "id": "confused-debate",
   "metadata": {},
   "outputs": [],
   "source": [
    "main.to_csv('twitter_archive_master.csv',index=False)"
   ]
  },
  {
   "cell_type": "markdown",
   "id": "blind-sleeve",
   "metadata": {},
   "source": [
    "## Visuals & Insights"
   ]
  },
  {
   "cell_type": "code",
   "execution_count": 706,
   "id": "informational-monday",
   "metadata": {},
   "outputs": [],
   "source": [
    "import matplotlib.pyplot as plt\n",
    "import seaborn as sns\n",
    "%matplotlib inline"
   ]
  },
  {
   "cell_type": "code",
   "execution_count": 707,
   "id": "colored-flooring",
   "metadata": {},
   "outputs": [],
   "source": [
    "#creating function for all bar charts in case study\n",
    "def bar_chart(var,color,title,x_label,y_label,rotation):\n",
    "    var\n",
    "    plt.subplots(figsize=(16, 5))\n",
    "    plt.bar(var.index,var,color=color)\n",
    "    plt.title(title)\n",
    "    plt.xlabel(x_label)\n",
    "    plt.ylabel(y_label)\n",
    "    plt.xticks(rotation=rotation)\n",
    "    plt.grid(axis='x',color='grey',linestyle = ':',alpha=0.7);"
   ]
  },
  {
   "cell_type": "markdown",
   "id": "incredible-archive",
   "metadata": {},
   "source": [
    "##### Filtering down most popular dogs. Dropping top 1% for outliers and bottom 90% to only include most popular dogs"
   ]
  },
  {
   "cell_type": "code",
   "execution_count": 708,
   "id": "funny-victim",
   "metadata": {},
   "outputs": [],
   "source": [
    "drop_low_outliers = main[main.favorite_count > main.favorite_count.quantile(.9)]\n",
    "drop_high_outliers = drop_low_outliers[drop_low_outliers.favorite_count < drop_low_outliers.favorite_count.quantile(.99)]\n",
    "most_liked_breed = drop_high_outliers.groupby('breed').mean()"
   ]
  },
  {
   "cell_type": "code",
   "execution_count": 762,
   "id": "equivalent-piece",
   "metadata": {},
   "outputs": [
    {
     "data": {
      "image/png": "[encoded data removed]",
      "text/plain": [
       "<Figure size 1152x360 with 1 Axes>"
      ]
     },
     "metadata": {},
     "output_type": "display_data"
    }
   ],
   "source": [
    "bar_chart(most_liked_breed['favorite_count'].sort_values(),\n",
    "          'slateblue','The most favorite dog breeds on WeRateDogs','Breed','Favorite Count',90)"
   ]
  },
  {
   "cell_type": "markdown",
   "id": "material-execution",
   "metadata": {},
   "source": [
    "1. English Springer has been on average most favorited dog breed on WeRateDogs. It received on avarage nearly 10k favorite hits on Twitter. Followed by Standard Poodle with over 8.5k hits and Italian Greyhound with nearly 7k hits."
   ]
  },
  {
   "cell_type": "code",
   "execution_count": 763,
   "id": "occupied-tonight",
   "metadata": {},
   "outputs": [
    {
     "data": {
      "image/png": "[encoded data removed]",
      "text/plain": [
       "<Figure size 1152x360 with 1 Axes>"
      ]
     },
     "metadata": {},
     "output_type": "display_data"
    }
   ],
   "source": [
    "bar_chart(most_liked_breed['retweet_count'].sort_values(),\n",
    "          'slateblue','The most retwetted dog breeds on WeRateDogs','Breed','Retweet Count',90)"
   ]
  },
  {
   "cell_type": "markdown",
   "id": "declared-craps",
   "metadata": {},
   "source": [
    "2. English Springer is not only most favorite by also most retweetted breed with nearly 4k retweets. It is followed by Standard Poodle which on avarage was retweetted nearly 3.6k times. "
   ]
  },
  {
   "cell_type": "code",
   "execution_count": 764,
   "id": "wanted-forestry",
   "metadata": {},
   "outputs": [
    {
     "data": {
      "image/png": "[encoded data removed]",
      "text/plain": [
       "<Figure size 1152x360 with 1 Axes>"
      ]
     },
     "metadata": {},
     "output_type": "display_data"
    }
   ],
   "source": [
    "bar_chart(most_liked_breed['dog_score'].sort_values(),\n",
    "          'slateblue','Best rated dog breeds by its owner on WeRateDogs','Breed','Rate Score',90)"
   ]
  },
  {
   "cell_type": "markdown",
   "id": "young-genius",
   "metadata": {},
   "source": [
    "3. For breeds share first place in their owners rating. Standard Poodle, Bloodhount, Rottweiler and Black and Tan Coonhound. These take first place is dogs rating by owners. It is calculated by WeRateDogs standard where owners can rate with higher numerator than denominator. First for scored 1.4 which is = 140%"
   ]
  },
  {
   "cell_type": "code",
   "execution_count": 712,
   "id": "funky-retirement",
   "metadata": {},
   "outputs": [],
   "source": [
    "#creating function for all line charts in case study\n",
    "def line_chart(var,x_axis,y_axis,color,x_label,y_label,title):\n",
    "    ax = sns.lineplot(data=var, x=x_axis, y=y_axis, color=color,linewidth=3)\n",
    "    sns.set(rc={'figure.figsize':(16,8)})\n",
    "    sns.set(style=\"whitegrid\")\n",
    "    ax.set(xlabel=x_label, ylabel=y_label,title=title);"
   ]
  },
  {
   "cell_type": "markdown",
   "id": "realistic-lobby",
   "metadata": {},
   "source": [
    "##### Removing 5% of high and low outliers and grouping data based on the date"
   ]
  },
  {
   "cell_type": "code",
   "execution_count": 713,
   "id": "legal-singles",
   "metadata": {},
   "outputs": [],
   "source": [
    "drop_low_outliers = main[main.favorite_count > main.favorite_count.quantile(.05)]\n",
    "drop_high_outliers = drop_low_outliers[drop_low_outliers.favorite_count < drop_low_outliers.favorite_count.quantile(.95)]\n",
    "most_tweets = drop_high_outliers.groupby('created_at').mean()"
   ]
  },
  {
   "cell_type": "markdown",
   "id": "entertaining-symphony",
   "metadata": {},
   "source": [
    "##### Calculating 7 day moving average to smoothen graph for most tweets based on date"
   ]
  },
  {
   "cell_type": "code",
   "execution_count": 714,
   "id": "personalized-absorption",
   "metadata": {},
   "outputs": [],
   "source": [
    "for i in range(0,most_tweets.shape[0]-6):\n",
    "    most_tweets.loc[most_tweets.index[i+6],'sma_7_fav'] = np.round(((most_tweets.iloc[i,1]+ most_tweets.iloc[i+1,1] +most_tweets.iloc[i+6,1])/7),1)\n"
   ]
  },
  {
   "cell_type": "code",
   "execution_count": 765,
   "id": "limited-copper",
   "metadata": {},
   "outputs": [
    {
     "data": {
      "image/png": "[encoded data removed]",
      "text/plain": [
       "<Figure size 1152x576 with 1 Axes>"
      ]
     },
     "metadata": {},
     "output_type": "display_data"
    }
   ],
   "source": [
    "line_chart(most_tweets,'created_at','sma_7_fav','green','Tweet Date',\n",
    "           '7 Day Moving Average of Favorite Tweets','Average Favorite Tweets by the Day')"
   ]
  },
  {
   "cell_type": "markdown",
   "id": "continent-spirit",
   "metadata": {},
   "source": [
    "4. Based on the graph we can see that 7 days moving average of favorited Tweets is steadily increasing over time. However, it is important to note that around November 2016 there were few weeks of massive jump in favorited Tweets. We can make conclusion that WeRateDogs page is increasingly become more and more popular and draws more attention from users."
   ]
  },
  {
   "cell_type": "markdown",
   "id": "attractive-giving",
   "metadata": {},
   "source": [
    "##### Removing 5% of high and low outliers and grouping data based on language"
   ]
  },
  {
   "cell_type": "code",
   "execution_count": 716,
   "id": "potential-balloon",
   "metadata": {},
   "outputs": [],
   "source": [
    "drop_low_outliers = main[main.favorite_count > main.favorite_count.quantile(.05)]\n",
    "drop_high_outliers = drop_low_outliers[drop_low_outliers.favorite_count < drop_low_outliers.favorite_count.quantile(.95)]\n",
    "tweets_language = main.groupby('language').mean()"
   ]
  },
  {
   "cell_type": "code",
   "execution_count": 761,
   "id": "limited-arbor",
   "metadata": {},
   "outputs": [
    {
     "data": {
      "image/png": "[encoded data removed]",
      "text/plain": [
       "<Figure size 1152x360 with 1 Axes>"
      ]
     },
     "metadata": {},
     "output_type": "display_data"
    }
   ],
   "source": [
    "bar_chart(tweets_language['dog_score'].sort_values(),\n",
    "          'slateblue','Best rated dogs by owner\\'s region','Language of the Tweet','Rate Score',0)"
   ]
  },
  {
   "cell_type": "markdown",
   "id": "spectacular-transportation",
   "metadata": {},
   "source": [
    "5. Bar chart above shows dog scores based on which language it was tweeted. It is assumed that owners are from country in which it was Tweetted. Taking that into account we can look closer who loves their animals the most and gives them best reviews. It happens to be Dutch that rate their dogs’ highest. Followed by Estonians and lastly English-speaking regions that can be assumed as multinational."
   ]
  },
  {
   "cell_type": "code",
   "execution_count": 745,
   "id": "isolated-heavy",
   "metadata": {},
   "outputs": [],
   "source": [
    "#creating function for all correlation charts in case study\n",
    "def scatter_plot(size,var1,var2,title,x_label,y_label):\n",
    "    N = size.count()\n",
    "    colors = 'slateblue'\n",
    "    area = (30 * np.random.rand(N))**1.5\n",
    "    plt.scatter(var1,var2,s=area,c=colors, alpha=0.9)\n",
    "    plt.title(title)\n",
    "    plt.ylabel(x_label)\n",
    "    plt.xlabel(y_label);"
   ]
  },
  {
   "cell_type": "code",
   "execution_count": 746,
   "id": "russian-single",
   "metadata": {},
   "outputs": [
    {
     "data": {
      "text/html": [
       "<div>\n",
       "<style scoped>\n",
       "    .dataframe tbody tr th:only-of-type {\n",
       "        vertical-align: middle;\n",
       "    }\n",
       "\n",
       "    .dataframe tbody tr th {\n",
       "        vertical-align: top;\n",
       "    }\n",
       "\n",
       "    .dataframe thead th {\n",
       "        text-align: right;\n",
       "    }\n",
       "</style>\n",
       "<table border=\"1\" class=\"dataframe\">\n",
       "  <thead>\n",
       "    <tr style=\"text-align: right;\">\n",
       "      <th></th>\n",
       "      <th>created_at</th>\n",
       "      <th>tweet_id</th>\n",
       "      <th>retweet_count</th>\n",
       "      <th>favorite_count</th>\n",
       "      <th>language</th>\n",
       "      <th>publish_type</th>\n",
       "      <th>jpg_url</th>\n",
       "      <th>dog_score</th>\n",
       "      <th>breed</th>\n",
       "    </tr>\n",
       "  </thead>\n",
       "  <tbody>\n",
       "    <tr>\n",
       "      <th>1</th>\n",
       "      <td>2017-08-01</td>\n",
       "      <td>892177421306343426</td>\n",
       "      <td>5452</td>\n",
       "      <td>30157</td>\n",
       "      <td>English</td>\n",
       "      <td>iPhone</td>\n",
       "      <td>https://pbs.twimg.com/media/DGGmoV4XsAAUL6n.jpg</td>\n",
       "      <td>1.3</td>\n",
       "      <td>chihuahua</td>\n",
       "    </tr>\n",
       "    <tr>\n",
       "      <th>2</th>\n",
       "      <td>2017-07-31</td>\n",
       "      <td>891815181378084864</td>\n",
       "      <td>3592</td>\n",
       "      <td>22696</td>\n",
       "      <td>English</td>\n",
       "      <td>iPhone</td>\n",
       "      <td>https://pbs.twimg.com/media/DGBdLU1WsAANxJ9.jpg</td>\n",
       "      <td>1.2</td>\n",
       "      <td>chihuahua</td>\n",
       "    </tr>\n",
       "    <tr>\n",
       "      <th>3</th>\n",
       "      <td>2017-07-30</td>\n",
       "      <td>891689557279858688</td>\n",
       "      <td>7486</td>\n",
       "      <td>38078</td>\n",
       "      <td>English</td>\n",
       "      <td>iPhone</td>\n",
       "      <td>https://pbs.twimg.com/media/DF_q7IAWsAEuuN8.jpg</td>\n",
       "      <td>1.3</td>\n",
       "      <td>labrador retriever</td>\n",
       "    </tr>\n",
       "    <tr>\n",
       "      <th>4</th>\n",
       "      <td>2017-07-29</td>\n",
       "      <td>891327558926688256</td>\n",
       "      <td>8046</td>\n",
       "      <td>36369</td>\n",
       "      <td>English</td>\n",
       "      <td>iPhone</td>\n",
       "      <td>https://pbs.twimg.com/media/DF6hr6BUMAAzZgT.jpg</td>\n",
       "      <td>1.2</td>\n",
       "      <td>basset</td>\n",
       "    </tr>\n",
       "    <tr>\n",
       "      <th>5</th>\n",
       "      <td>2017-07-29</td>\n",
       "      <td>891087950875897856</td>\n",
       "      <td>2698</td>\n",
       "      <td>18340</td>\n",
       "      <td>English</td>\n",
       "      <td>iPhone</td>\n",
       "      <td>https://pbs.twimg.com/media/DF3HwyEWsAABqE6.jpg</td>\n",
       "      <td>1.3</td>\n",
       "      <td>chesapeake bay retriever</td>\n",
       "    </tr>\n",
       "  </tbody>\n",
       "</table>\n",
       "</div>"
      ],
      "text/plain": [
       "  created_at            tweet_id  retweet_count  favorite_count language  \\\n",
       "1 2017-08-01  892177421306343426           5452           30157  English   \n",
       "2 2017-07-31  891815181378084864           3592           22696  English   \n",
       "3 2017-07-30  891689557279858688           7486           38078  English   \n",
       "4 2017-07-29  891327558926688256           8046           36369  English   \n",
       "5 2017-07-29  891087950875897856           2698           18340  English   \n",
       "\n",
       "  publish_type                                          jpg_url  dog_score  \\\n",
       "1       iPhone  https://pbs.twimg.com/media/DGGmoV4XsAAUL6n.jpg        1.3   \n",
       "2       iPhone  https://pbs.twimg.com/media/DGBdLU1WsAANxJ9.jpg        1.2   \n",
       "3       iPhone  https://pbs.twimg.com/media/DF_q7IAWsAEuuN8.jpg        1.3   \n",
       "4       iPhone  https://pbs.twimg.com/media/DF6hr6BUMAAzZgT.jpg        1.2   \n",
       "5       iPhone  https://pbs.twimg.com/media/DF3HwyEWsAABqE6.jpg        1.3   \n",
       "\n",
       "                      breed  \n",
       "1                 chihuahua  \n",
       "2                 chihuahua  \n",
       "3        labrador retriever  \n",
       "4                    basset  \n",
       "5  chesapeake bay retriever  "
      ]
     },
     "execution_count": 746,
     "metadata": {},
     "output_type": "execute_result"
    }
   ],
   "source": [
    "main.head()"
   ]
  },
  {
   "cell_type": "markdown",
   "id": "political-amino",
   "metadata": {},
   "source": [
    "##### Removing 15% of high and 5% of low outliers and grouping data based on language"
   ]
  },
  {
   "cell_type": "code",
   "execution_count": 747,
   "id": "maritime-judge",
   "metadata": {},
   "outputs": [],
   "source": [
    "drop_low_outliers = main[main.favorite_count > main.favorite_count.quantile(0.05)]\n",
    "drop_high_outliers = drop_low_outliers[drop_low_outliers.favorite_count < drop_low_outliers.favorite_count.quantile(.85)]\n",
    "correl_data = drop_high_outliers.groupby('tweet_id').mean()"
   ]
  },
  {
   "cell_type": "code",
   "execution_count": 766,
   "id": "banned-surge",
   "metadata": {},
   "outputs": [
    {
     "data": {
      "image/png": "[encoded data removed]",
      "text/plain": [
       "<Figure size 1152x576 with 1 Axes>"
      ]
     },
     "metadata": {},
     "output_type": "display_data"
    }
   ],
   "source": [
    "scatter_plot(correl_data['favorite_count'],correl_data['dog_score'],correl_data['favorite_count'],\n",
    "            'Correlation Between Liked Tweets and Owner\\'s Rating',\n",
    "            'Average Number of Liked Tweets','Average Dog Owner\\'s Rating')"
   ]
  },
  {
   "cell_type": "markdown",
   "id": "colored-valentine",
   "metadata": {},
   "source": [
    "6. Correlation between dog score that owner give to their pets and likes on Twitter is pretty weak. It seems like owners are wider audience not necessarily have similar views. It could well be expected as all owners love their pets the most."
   ]
  },
  {
   "cell_type": "code",
   "execution_count": 735,
   "id": "convertible-visit",
   "metadata": {},
   "outputs": [
    {
     "data": {
      "text/html": [
       "<div>\n",
       "<style scoped>\n",
       "    .dataframe tbody tr th:only-of-type {\n",
       "        vertical-align: middle;\n",
       "    }\n",
       "\n",
       "    .dataframe tbody tr th {\n",
       "        vertical-align: top;\n",
       "    }\n",
       "\n",
       "    .dataframe thead th {\n",
       "        text-align: right;\n",
       "    }\n",
       "</style>\n",
       "<table border=\"1\" class=\"dataframe\">\n",
       "  <thead>\n",
       "    <tr style=\"text-align: right;\">\n",
       "      <th></th>\n",
       "      <th>retweet_count</th>\n",
       "      <th>favorite_count</th>\n",
       "      <th>dog_score</th>\n",
       "    </tr>\n",
       "  </thead>\n",
       "  <tbody>\n",
       "    <tr>\n",
       "      <th>retweet_count</th>\n",
       "      <td>1.000000</td>\n",
       "      <td>0.876212</td>\n",
       "      <td>0.284163</td>\n",
       "    </tr>\n",
       "    <tr>\n",
       "      <th>favorite_count</th>\n",
       "      <td>0.876212</td>\n",
       "      <td>1.000000</td>\n",
       "      <td>0.369524</td>\n",
       "    </tr>\n",
       "    <tr>\n",
       "      <th>dog_score</th>\n",
       "      <td>0.284163</td>\n",
       "      <td>0.369524</td>\n",
       "      <td>1.000000</td>\n",
       "    </tr>\n",
       "  </tbody>\n",
       "</table>\n",
       "</div>"
      ],
      "text/plain": [
       "                retweet_count  favorite_count  dog_score\n",
       "retweet_count        1.000000        0.876212   0.284163\n",
       "favorite_count       0.876212        1.000000   0.369524\n",
       "dog_score            0.284163        0.369524   1.000000"
      ]
     },
     "execution_count": 735,
     "metadata": {},
     "output_type": "execute_result"
    }
   ],
   "source": [
    "correl_data.corr(method ='pearson')"
   ]
  },
  {
   "cell_type": "code",
   "execution_count": 767,
   "id": "organizational-paris",
   "metadata": {},
   "outputs": [
    {
     "data": {
      "image/png": "[encoded data removed]",
      "text/plain": [
       "<Figure size 1152x576 with 1 Axes>"
      ]
     },
     "metadata": {},
     "output_type": "display_data"
    }
   ],
   "source": [
    "scatter_plot(correl_data['favorite_count'],correl_data['retweet_count'],correl_data['favorite_count'],\n",
    "            'Correlation Between Retweets and Liked Tweets',\n",
    "            'Average Number of Liked Tweets','Average Number of Retweets')"
   ]
  },
  {
   "cell_type": "markdown",
   "id": "indirect-treat",
   "metadata": {},
   "source": [
    "7. Correlation above shows relationship between retweets and favorited counts. Graph indicates that there is a strong correlation between post being liked and then retweet."
   ]
  },
  {
   "cell_type": "markdown",
   "id": "mature-increase",
   "metadata": {},
   "source": [
    "### Conclusion\n",
    "\n",
    ">Project helped to disclose which dog breed are trending on WeRateDogs Twitter account. It happened to be that most favourite dogs are also most retweet dog breeds which is English Springer. However, dog owner gave best votes to Standard Poodles. \n",
    ">\n",
    ">Further analysis show that WeRateDogs website is become increasingly more popular over time. As there are and more tweets favourite on the page though the time. \n",
    ">\n",
    ">Lastly, correlation between owner's dog ratings and favourite votes on WeRateDogs have been analysed which showed that there is weak correlation between two variables. In addition, analysis looked at correlation between favourite tweets and retweets. As expected it showed strong correlation between two variables. It means that those post which get many likes are likely to be tweeted often.\n",
    ">\n",
    "### Limitations\n",
    "\n",
    ">Analysis is limited to extracted data from Twitter and picture recognition file provided by Udacity. It is also limited to twitter AI photo recognition which at the best attempt on average deliver just over 50% of confidence.\n",
    ">\n",
    ">Also, analysis is limited to given ratings provided by owners which can contain higher numerator than denominator.\n",
    ">\n",
    ">Analysis is limited just retweets, favorited tweets, derived dog rating, publication date, language, publishing type, images and breed of the dogs.\n",
    ">\n",
    ">Dropping non-dog information and applying certain thresholds to exclude outliers might skew analysis and could have unintentional bias towards results.\n"
   ]
  },
  {
   "cell_type": "code",
   "execution_count": null,
   "id": "descending-memphis",
   "metadata": {},
   "outputs": [],
   "source": []
  }
 ],
 "metadata": {
  "kernelspec": {
   "display_name": "Python 3",
   "language": "python",
   "name": "python3"
  },
  "language_info": {
   "codemirror_mode": {
    "name": "ipython",
    "version": 3
   },
   "file_extension": ".py",
   "mimetype": "text/x-python",
   "name": "python",
   "nbconvert_exporter": "python",
   "pygments_lexer": "ipython3",
   "version": "3.9.2"
  }
 },
 "nbformat": 4,
 "nbformat_minor": 5
}
